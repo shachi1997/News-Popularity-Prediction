{
 "cells": [
  {
   "cell_type": "markdown",
   "metadata": {},
   "source": [
    "## Online news Popularity Data set:\n",
    "### Abstract:\n",
    "The dataset summarizes a heterogeneous set of features about articles published by Mashable in a period of two years. The analysis is done on them to find out which feature/attribute contribute maximum in the popularity and predict the popularity of future news articles in advance before they are published online.\n",
    "\n",
    "The dataset is obtained from : _[Online news Popularity Data set](https://archive.ics.uci.edu/ml/datasets/Online+News+Popularity)_\n",
    "\n",
    "### Goal:\n",
    "Predict the popularity of an online article i.e the maximum no of shares."
   ]
  },
  {
   "cell_type": "markdown",
   "metadata": {},
   "source": [
    "### Regression models:\n",
    "Since the goal is to predict the popularity of an online article, we need to apply regression models to find the outcome of dependent variable (shares) from rest of the independent variables.\n",
    "Given below we are using 3 Regression models:\n",
    "- Linear Regressor\n",
    "- Random forest Regressor\n",
    "- Lasso Regressor"
   ]
  },
  {
   "cell_type": "code",
   "execution_count": 2,
   "metadata": {},
   "outputs": [
    {
     "name": "stderr",
     "output_type": "stream",
     "text": [
      "C:\\Users\\user\\Anaconda3\\lib\\site-packages\\sklearn\\cross_validation.py:41: DeprecationWarning: This module was deprecated in version 0.18 in favor of the model_selection module into which all the refactored classes and functions are moved. Also note that the interface of the new CV iterators are different from that of this module. This module will be removed in 0.20.\n",
      "  \"This module will be removed in 0.20.\", DeprecationWarning)\n"
     ]
    }
   ],
   "source": [
    "#import libraries\n",
    "import numpy as np\n",
    "import pandas as pd\n",
    "import csv\n",
    "import operator\n",
    "from matplotlib import pyplot as plt\n",
    "from sklearn.feature_selection import RFE\n",
    "from math import sqrt\n",
    "from sklearn.model_selection import train_test_split, cross_val_score\n",
    "from sklearn.metrics import mean_squared_error, mean_absolute_error, r2_score\n",
    "from sklearn import cross_validation, metrics \n",
    "from sklearn.ensemble import RandomForestRegressor\n",
    "from sklearn.linear_model import LinearRegression\n",
    "%matplotlib inline"
   ]
  },
  {
   "cell_type": "code",
   "execution_count": 3,
   "metadata": {
    "collapsed": true
   },
   "outputs": [],
   "source": [
    "#read csv\n",
    "df = pd.read_csv(\"OnlineNewsPopularity.csv\",delimiter=',',skipinitialspace=True)"
   ]
  },
  {
   "cell_type": "code",
   "execution_count": 4,
   "metadata": {},
   "outputs": [
    {
     "data": {
      "text/html": [
       "<div>\n",
       "<style>\n",
       "    .dataframe thead tr:only-child th {\n",
       "        text-align: right;\n",
       "    }\n",
       "\n",
       "    .dataframe thead th {\n",
       "        text-align: left;\n",
       "    }\n",
       "\n",
       "    .dataframe tbody tr th {\n",
       "        vertical-align: top;\n",
       "    }\n",
       "</style>\n",
       "<table border=\"1\" class=\"dataframe\">\n",
       "  <thead>\n",
       "    <tr style=\"text-align: right;\">\n",
       "      <th></th>\n",
       "      <th>url</th>\n",
       "      <th>timedelta</th>\n",
       "      <th>n_tokens_title</th>\n",
       "      <th>n_tokens_content</th>\n",
       "      <th>n_unique_tokens</th>\n",
       "      <th>n_non_stop_words</th>\n",
       "      <th>n_non_stop_unique_tokens</th>\n",
       "      <th>num_hrefs</th>\n",
       "      <th>num_self_hrefs</th>\n",
       "      <th>num_imgs</th>\n",
       "      <th>...</th>\n",
       "      <th>min_positive_polarity</th>\n",
       "      <th>max_positive_polarity</th>\n",
       "      <th>avg_negative_polarity</th>\n",
       "      <th>min_negative_polarity</th>\n",
       "      <th>max_negative_polarity</th>\n",
       "      <th>title_subjectivity</th>\n",
       "      <th>title_sentiment_polarity</th>\n",
       "      <th>abs_title_subjectivity</th>\n",
       "      <th>abs_title_sentiment_polarity</th>\n",
       "      <th>shares</th>\n",
       "    </tr>\n",
       "  </thead>\n",
       "  <tbody>\n",
       "    <tr>\n",
       "      <th>0</th>\n",
       "      <td>http://mashable.com/2013/01/07/amazon-instant-...</td>\n",
       "      <td>731.0</td>\n",
       "      <td>12.0</td>\n",
       "      <td>219.0</td>\n",
       "      <td>0.663594</td>\n",
       "      <td>1.0</td>\n",
       "      <td>0.815385</td>\n",
       "      <td>4.0</td>\n",
       "      <td>2.0</td>\n",
       "      <td>1.0</td>\n",
       "      <td>...</td>\n",
       "      <td>0.100000</td>\n",
       "      <td>0.700000</td>\n",
       "      <td>-0.350000</td>\n",
       "      <td>-0.600000</td>\n",
       "      <td>-0.200000</td>\n",
       "      <td>0.500000</td>\n",
       "      <td>-0.187500</td>\n",
       "      <td>0.000000</td>\n",
       "      <td>0.187500</td>\n",
       "      <td>593</td>\n",
       "    </tr>\n",
       "    <tr>\n",
       "      <th>1</th>\n",
       "      <td>http://mashable.com/2013/01/07/ap-samsung-spon...</td>\n",
       "      <td>731.0</td>\n",
       "      <td>9.0</td>\n",
       "      <td>255.0</td>\n",
       "      <td>0.604743</td>\n",
       "      <td>1.0</td>\n",
       "      <td>0.791946</td>\n",
       "      <td>3.0</td>\n",
       "      <td>1.0</td>\n",
       "      <td>1.0</td>\n",
       "      <td>...</td>\n",
       "      <td>0.033333</td>\n",
       "      <td>0.700000</td>\n",
       "      <td>-0.118750</td>\n",
       "      <td>-0.125000</td>\n",
       "      <td>-0.100000</td>\n",
       "      <td>0.000000</td>\n",
       "      <td>0.000000</td>\n",
       "      <td>0.500000</td>\n",
       "      <td>0.000000</td>\n",
       "      <td>711</td>\n",
       "    </tr>\n",
       "    <tr>\n",
       "      <th>2</th>\n",
       "      <td>http://mashable.com/2013/01/07/apple-40-billio...</td>\n",
       "      <td>731.0</td>\n",
       "      <td>9.0</td>\n",
       "      <td>211.0</td>\n",
       "      <td>0.575130</td>\n",
       "      <td>1.0</td>\n",
       "      <td>0.663866</td>\n",
       "      <td>3.0</td>\n",
       "      <td>1.0</td>\n",
       "      <td>1.0</td>\n",
       "      <td>...</td>\n",
       "      <td>0.100000</td>\n",
       "      <td>1.000000</td>\n",
       "      <td>-0.466667</td>\n",
       "      <td>-0.800000</td>\n",
       "      <td>-0.133333</td>\n",
       "      <td>0.000000</td>\n",
       "      <td>0.000000</td>\n",
       "      <td>0.500000</td>\n",
       "      <td>0.000000</td>\n",
       "      <td>1500</td>\n",
       "    </tr>\n",
       "    <tr>\n",
       "      <th>3</th>\n",
       "      <td>http://mashable.com/2013/01/07/astronaut-notre...</td>\n",
       "      <td>731.0</td>\n",
       "      <td>9.0</td>\n",
       "      <td>531.0</td>\n",
       "      <td>0.503788</td>\n",
       "      <td>1.0</td>\n",
       "      <td>0.665635</td>\n",
       "      <td>9.0</td>\n",
       "      <td>0.0</td>\n",
       "      <td>1.0</td>\n",
       "      <td>...</td>\n",
       "      <td>0.136364</td>\n",
       "      <td>0.800000</td>\n",
       "      <td>-0.369697</td>\n",
       "      <td>-0.600000</td>\n",
       "      <td>-0.166667</td>\n",
       "      <td>0.000000</td>\n",
       "      <td>0.000000</td>\n",
       "      <td>0.500000</td>\n",
       "      <td>0.000000</td>\n",
       "      <td>1200</td>\n",
       "    </tr>\n",
       "    <tr>\n",
       "      <th>4</th>\n",
       "      <td>http://mashable.com/2013/01/07/att-u-verse-apps/</td>\n",
       "      <td>731.0</td>\n",
       "      <td>13.0</td>\n",
       "      <td>1072.0</td>\n",
       "      <td>0.415646</td>\n",
       "      <td>1.0</td>\n",
       "      <td>0.540890</td>\n",
       "      <td>19.0</td>\n",
       "      <td>19.0</td>\n",
       "      <td>20.0</td>\n",
       "      <td>...</td>\n",
       "      <td>0.033333</td>\n",
       "      <td>1.000000</td>\n",
       "      <td>-0.220192</td>\n",
       "      <td>-0.500000</td>\n",
       "      <td>-0.050000</td>\n",
       "      <td>0.454545</td>\n",
       "      <td>0.136364</td>\n",
       "      <td>0.045455</td>\n",
       "      <td>0.136364</td>\n",
       "      <td>505</td>\n",
       "    </tr>\n",
       "    <tr>\n",
       "      <th>5</th>\n",
       "      <td>http://mashable.com/2013/01/07/beewi-smart-toys/</td>\n",
       "      <td>731.0</td>\n",
       "      <td>10.0</td>\n",
       "      <td>370.0</td>\n",
       "      <td>0.559889</td>\n",
       "      <td>1.0</td>\n",
       "      <td>0.698198</td>\n",
       "      <td>2.0</td>\n",
       "      <td>2.0</td>\n",
       "      <td>0.0</td>\n",
       "      <td>...</td>\n",
       "      <td>0.136364</td>\n",
       "      <td>0.600000</td>\n",
       "      <td>-0.195000</td>\n",
       "      <td>-0.400000</td>\n",
       "      <td>-0.100000</td>\n",
       "      <td>0.642857</td>\n",
       "      <td>0.214286</td>\n",
       "      <td>0.142857</td>\n",
       "      <td>0.214286</td>\n",
       "      <td>855</td>\n",
       "    </tr>\n",
       "    <tr>\n",
       "      <th>6</th>\n",
       "      <td>http://mashable.com/2013/01/07/bodymedia-armba...</td>\n",
       "      <td>731.0</td>\n",
       "      <td>8.0</td>\n",
       "      <td>960.0</td>\n",
       "      <td>0.418163</td>\n",
       "      <td>1.0</td>\n",
       "      <td>0.549834</td>\n",
       "      <td>21.0</td>\n",
       "      <td>20.0</td>\n",
       "      <td>20.0</td>\n",
       "      <td>...</td>\n",
       "      <td>0.100000</td>\n",
       "      <td>1.000000</td>\n",
       "      <td>-0.224479</td>\n",
       "      <td>-0.500000</td>\n",
       "      <td>-0.050000</td>\n",
       "      <td>0.000000</td>\n",
       "      <td>0.000000</td>\n",
       "      <td>0.500000</td>\n",
       "      <td>0.000000</td>\n",
       "      <td>556</td>\n",
       "    </tr>\n",
       "    <tr>\n",
       "      <th>7</th>\n",
       "      <td>http://mashable.com/2013/01/07/canon-poweshot-n/</td>\n",
       "      <td>731.0</td>\n",
       "      <td>12.0</td>\n",
       "      <td>989.0</td>\n",
       "      <td>0.433574</td>\n",
       "      <td>1.0</td>\n",
       "      <td>0.572108</td>\n",
       "      <td>20.0</td>\n",
       "      <td>20.0</td>\n",
       "      <td>20.0</td>\n",
       "      <td>...</td>\n",
       "      <td>0.100000</td>\n",
       "      <td>1.000000</td>\n",
       "      <td>-0.242778</td>\n",
       "      <td>-0.500000</td>\n",
       "      <td>-0.050000</td>\n",
       "      <td>1.000000</td>\n",
       "      <td>0.500000</td>\n",
       "      <td>0.500000</td>\n",
       "      <td>0.500000</td>\n",
       "      <td>891</td>\n",
       "    </tr>\n",
       "    <tr>\n",
       "      <th>8</th>\n",
       "      <td>http://mashable.com/2013/01/07/car-of-the-futu...</td>\n",
       "      <td>731.0</td>\n",
       "      <td>11.0</td>\n",
       "      <td>97.0</td>\n",
       "      <td>0.670103</td>\n",
       "      <td>1.0</td>\n",
       "      <td>0.836735</td>\n",
       "      <td>2.0</td>\n",
       "      <td>0.0</td>\n",
       "      <td>0.0</td>\n",
       "      <td>...</td>\n",
       "      <td>0.400000</td>\n",
       "      <td>0.800000</td>\n",
       "      <td>-0.125000</td>\n",
       "      <td>-0.125000</td>\n",
       "      <td>-0.125000</td>\n",
       "      <td>0.125000</td>\n",
       "      <td>0.000000</td>\n",
       "      <td>0.375000</td>\n",
       "      <td>0.000000</td>\n",
       "      <td>3600</td>\n",
       "    </tr>\n",
       "    <tr>\n",
       "      <th>9</th>\n",
       "      <td>http://mashable.com/2013/01/07/chuck-hagel-web...</td>\n",
       "      <td>731.0</td>\n",
       "      <td>10.0</td>\n",
       "      <td>231.0</td>\n",
       "      <td>0.636364</td>\n",
       "      <td>1.0</td>\n",
       "      <td>0.797101</td>\n",
       "      <td>4.0</td>\n",
       "      <td>1.0</td>\n",
       "      <td>1.0</td>\n",
       "      <td>...</td>\n",
       "      <td>0.100000</td>\n",
       "      <td>0.500000</td>\n",
       "      <td>-0.238095</td>\n",
       "      <td>-0.500000</td>\n",
       "      <td>-0.100000</td>\n",
       "      <td>0.000000</td>\n",
       "      <td>0.000000</td>\n",
       "      <td>0.500000</td>\n",
       "      <td>0.000000</td>\n",
       "      <td>710</td>\n",
       "    </tr>\n",
       "    <tr>\n",
       "      <th>10</th>\n",
       "      <td>http://mashable.com/2013/01/07/cosmic-events-d...</td>\n",
       "      <td>731.0</td>\n",
       "      <td>9.0</td>\n",
       "      <td>1248.0</td>\n",
       "      <td>0.490050</td>\n",
       "      <td>1.0</td>\n",
       "      <td>0.731638</td>\n",
       "      <td>11.0</td>\n",
       "      <td>0.0</td>\n",
       "      <td>1.0</td>\n",
       "      <td>...</td>\n",
       "      <td>0.100000</td>\n",
       "      <td>1.000000</td>\n",
       "      <td>-0.415064</td>\n",
       "      <td>-1.000000</td>\n",
       "      <td>-0.100000</td>\n",
       "      <td>0.000000</td>\n",
       "      <td>0.000000</td>\n",
       "      <td>0.500000</td>\n",
       "      <td>0.000000</td>\n",
       "      <td>2200</td>\n",
       "    </tr>\n",
       "    <tr>\n",
       "      <th>11</th>\n",
       "      <td>http://mashable.com/2013/01/07/crayon-creatures/</td>\n",
       "      <td>731.0</td>\n",
       "      <td>10.0</td>\n",
       "      <td>187.0</td>\n",
       "      <td>0.666667</td>\n",
       "      <td>1.0</td>\n",
       "      <td>0.800000</td>\n",
       "      <td>7.0</td>\n",
       "      <td>0.0</td>\n",
       "      <td>1.0</td>\n",
       "      <td>...</td>\n",
       "      <td>0.200000</td>\n",
       "      <td>0.700000</td>\n",
       "      <td>-0.262500</td>\n",
       "      <td>-0.400000</td>\n",
       "      <td>-0.125000</td>\n",
       "      <td>0.000000</td>\n",
       "      <td>0.000000</td>\n",
       "      <td>0.500000</td>\n",
       "      <td>0.000000</td>\n",
       "      <td>1900</td>\n",
       "    </tr>\n",
       "    <tr>\n",
       "      <th>12</th>\n",
       "      <td>http://mashable.com/2013/01/07/creature-cups/</td>\n",
       "      <td>731.0</td>\n",
       "      <td>9.0</td>\n",
       "      <td>274.0</td>\n",
       "      <td>0.609195</td>\n",
       "      <td>1.0</td>\n",
       "      <td>0.707602</td>\n",
       "      <td>18.0</td>\n",
       "      <td>2.0</td>\n",
       "      <td>11.0</td>\n",
       "      <td>...</td>\n",
       "      <td>0.200000</td>\n",
       "      <td>0.700000</td>\n",
       "      <td>-0.310417</td>\n",
       "      <td>-0.600000</td>\n",
       "      <td>-0.050000</td>\n",
       "      <td>1.000000</td>\n",
       "      <td>-1.000000</td>\n",
       "      <td>0.500000</td>\n",
       "      <td>1.000000</td>\n",
       "      <td>823</td>\n",
       "    </tr>\n",
       "    <tr>\n",
       "      <th>13</th>\n",
       "      <td>http://mashable.com/2013/01/07/dad-jokes/</td>\n",
       "      <td>731.0</td>\n",
       "      <td>9.0</td>\n",
       "      <td>285.0</td>\n",
       "      <td>0.744186</td>\n",
       "      <td>1.0</td>\n",
       "      <td>0.841530</td>\n",
       "      <td>4.0</td>\n",
       "      <td>2.0</td>\n",
       "      <td>0.0</td>\n",
       "      <td>...</td>\n",
       "      <td>0.160000</td>\n",
       "      <td>1.000000</td>\n",
       "      <td>-0.337889</td>\n",
       "      <td>-0.700000</td>\n",
       "      <td>-0.100000</td>\n",
       "      <td>1.000000</td>\n",
       "      <td>-1.000000</td>\n",
       "      <td>0.500000</td>\n",
       "      <td>1.000000</td>\n",
       "      <td>10000</td>\n",
       "    </tr>\n",
       "    <tr>\n",
       "      <th>14</th>\n",
       "      <td>http://mashable.com/2013/01/07/downton-abbey-t...</td>\n",
       "      <td>731.0</td>\n",
       "      <td>8.0</td>\n",
       "      <td>259.0</td>\n",
       "      <td>0.562753</td>\n",
       "      <td>1.0</td>\n",
       "      <td>0.644444</td>\n",
       "      <td>19.0</td>\n",
       "      <td>3.0</td>\n",
       "      <td>9.0</td>\n",
       "      <td>...</td>\n",
       "      <td>0.136364</td>\n",
       "      <td>0.500000</td>\n",
       "      <td>-0.138690</td>\n",
       "      <td>-0.187500</td>\n",
       "      <td>-0.050000</td>\n",
       "      <td>0.750000</td>\n",
       "      <td>0.550000</td>\n",
       "      <td>0.250000</td>\n",
       "      <td>0.550000</td>\n",
       "      <td>761</td>\n",
       "    </tr>\n",
       "    <tr>\n",
       "      <th>15</th>\n",
       "      <td>http://mashable.com/2013/01/07/earth-size-plan...</td>\n",
       "      <td>731.0</td>\n",
       "      <td>12.0</td>\n",
       "      <td>682.0</td>\n",
       "      <td>0.459542</td>\n",
       "      <td>1.0</td>\n",
       "      <td>0.634961</td>\n",
       "      <td>10.0</td>\n",
       "      <td>0.0</td>\n",
       "      <td>1.0</td>\n",
       "      <td>...</td>\n",
       "      <td>0.050000</td>\n",
       "      <td>0.600000</td>\n",
       "      <td>-0.220150</td>\n",
       "      <td>-0.600000</td>\n",
       "      <td>-0.050000</td>\n",
       "      <td>0.750000</td>\n",
       "      <td>-0.250000</td>\n",
       "      <td>0.250000</td>\n",
       "      <td>0.250000</td>\n",
       "      <td>1600</td>\n",
       "    </tr>\n",
       "    <tr>\n",
       "      <th>16</th>\n",
       "      <td>http://mashable.com/2013/01/07/echo-game/</td>\n",
       "      <td>731.0</td>\n",
       "      <td>8.0</td>\n",
       "      <td>1118.0</td>\n",
       "      <td>0.512397</td>\n",
       "      <td>1.0</td>\n",
       "      <td>0.709770</td>\n",
       "      <td>26.0</td>\n",
       "      <td>18.0</td>\n",
       "      <td>12.0</td>\n",
       "      <td>...</td>\n",
       "      <td>0.100000</td>\n",
       "      <td>1.000000</td>\n",
       "      <td>-0.401437</td>\n",
       "      <td>-1.000000</td>\n",
       "      <td>-0.050000</td>\n",
       "      <td>0.566667</td>\n",
       "      <td>-0.100000</td>\n",
       "      <td>0.066667</td>\n",
       "      <td>0.100000</td>\n",
       "      <td>13600</td>\n",
       "    </tr>\n",
       "    <tr>\n",
       "      <th>17</th>\n",
       "      <td>http://mashable.com/2013/01/07/entrepreneur-tr...</td>\n",
       "      <td>731.0</td>\n",
       "      <td>8.0</td>\n",
       "      <td>397.0</td>\n",
       "      <td>0.624679</td>\n",
       "      <td>1.0</td>\n",
       "      <td>0.805668</td>\n",
       "      <td>11.0</td>\n",
       "      <td>0.0</td>\n",
       "      <td>1.0</td>\n",
       "      <td>...</td>\n",
       "      <td>0.033333</td>\n",
       "      <td>1.000000</td>\n",
       "      <td>-0.144643</td>\n",
       "      <td>-0.200000</td>\n",
       "      <td>-0.100000</td>\n",
       "      <td>0.000000</td>\n",
       "      <td>0.000000</td>\n",
       "      <td>0.500000</td>\n",
       "      <td>0.000000</td>\n",
       "      <td>3100</td>\n",
       "    </tr>\n",
       "    <tr>\n",
       "      <th>18</th>\n",
       "      <td>http://mashable.com/2013/01/07/facebook-sick-app/</td>\n",
       "      <td>731.0</td>\n",
       "      <td>11.0</td>\n",
       "      <td>103.0</td>\n",
       "      <td>0.689320</td>\n",
       "      <td>1.0</td>\n",
       "      <td>0.806452</td>\n",
       "      <td>3.0</td>\n",
       "      <td>1.0</td>\n",
       "      <td>1.0</td>\n",
       "      <td>...</td>\n",
       "      <td>0.033333</td>\n",
       "      <td>0.500000</td>\n",
       "      <td>-0.125000</td>\n",
       "      <td>-0.125000</td>\n",
       "      <td>-0.125000</td>\n",
       "      <td>0.857143</td>\n",
       "      <td>-0.714286</td>\n",
       "      <td>0.357143</td>\n",
       "      <td>0.714286</td>\n",
       "      <td>5700</td>\n",
       "    </tr>\n",
       "    <tr>\n",
       "      <th>19</th>\n",
       "      <td>http://mashable.com/2013/01/07/felt-audio-puls...</td>\n",
       "      <td>731.0</td>\n",
       "      <td>8.0</td>\n",
       "      <td>1207.0</td>\n",
       "      <td>0.410579</td>\n",
       "      <td>1.0</td>\n",
       "      <td>0.548969</td>\n",
       "      <td>24.0</td>\n",
       "      <td>24.0</td>\n",
       "      <td>42.0</td>\n",
       "      <td>...</td>\n",
       "      <td>0.100000</td>\n",
       "      <td>1.000000</td>\n",
       "      <td>-0.226786</td>\n",
       "      <td>-0.500000</td>\n",
       "      <td>-0.050000</td>\n",
       "      <td>0.500000</td>\n",
       "      <td>0.000000</td>\n",
       "      <td>0.000000</td>\n",
       "      <td>0.000000</td>\n",
       "      <td>17100</td>\n",
       "    </tr>\n",
       "    <tr>\n",
       "      <th>20</th>\n",
       "      <td>http://mashable.com/2013/01/07/ford-glympse/</td>\n",
       "      <td>731.0</td>\n",
       "      <td>13.0</td>\n",
       "      <td>1248.0</td>\n",
       "      <td>0.390638</td>\n",
       "      <td>1.0</td>\n",
       "      <td>0.523388</td>\n",
       "      <td>21.0</td>\n",
       "      <td>19.0</td>\n",
       "      <td>20.0</td>\n",
       "      <td>...</td>\n",
       "      <td>0.100000</td>\n",
       "      <td>1.000000</td>\n",
       "      <td>-0.206548</td>\n",
       "      <td>-0.500000</td>\n",
       "      <td>-0.050000</td>\n",
       "      <td>0.000000</td>\n",
       "      <td>0.000000</td>\n",
       "      <td>0.500000</td>\n",
       "      <td>0.000000</td>\n",
       "      <td>2800</td>\n",
       "    </tr>\n",
       "    <tr>\n",
       "      <th>21</th>\n",
       "      <td>http://mashable.com/2013/01/07/ftc-google-leaks/</td>\n",
       "      <td>731.0</td>\n",
       "      <td>9.0</td>\n",
       "      <td>391.0</td>\n",
       "      <td>0.510256</td>\n",
       "      <td>1.0</td>\n",
       "      <td>0.650000</td>\n",
       "      <td>9.0</td>\n",
       "      <td>2.0</td>\n",
       "      <td>1.0</td>\n",
       "      <td>...</td>\n",
       "      <td>0.050000</td>\n",
       "      <td>0.350000</td>\n",
       "      <td>-0.108333</td>\n",
       "      <td>-0.166667</td>\n",
       "      <td>-0.050000</td>\n",
       "      <td>0.000000</td>\n",
       "      <td>0.000000</td>\n",
       "      <td>0.500000</td>\n",
       "      <td>0.000000</td>\n",
       "      <td>598</td>\n",
       "    </tr>\n",
       "    <tr>\n",
       "      <th>22</th>\n",
       "      <td>http://mashable.com/2013/01/07/fujifilm-50x-su...</td>\n",
       "      <td>731.0</td>\n",
       "      <td>11.0</td>\n",
       "      <td>1154.0</td>\n",
       "      <td>0.427305</td>\n",
       "      <td>1.0</td>\n",
       "      <td>0.572816</td>\n",
       "      <td>20.0</td>\n",
       "      <td>20.0</td>\n",
       "      <td>20.0</td>\n",
       "      <td>...</td>\n",
       "      <td>0.100000</td>\n",
       "      <td>1.000000</td>\n",
       "      <td>-0.230263</td>\n",
       "      <td>-0.500000</td>\n",
       "      <td>-0.050000</td>\n",
       "      <td>0.000000</td>\n",
       "      <td>0.000000</td>\n",
       "      <td>0.500000</td>\n",
       "      <td>0.000000</td>\n",
       "      <td>445</td>\n",
       "    </tr>\n",
       "    <tr>\n",
       "      <th>23</th>\n",
       "      <td>http://mashable.com/2013/01/07/hillary-clinton...</td>\n",
       "      <td>731.0</td>\n",
       "      <td>11.0</td>\n",
       "      <td>125.0</td>\n",
       "      <td>0.674797</td>\n",
       "      <td>1.0</td>\n",
       "      <td>0.797468</td>\n",
       "      <td>1.0</td>\n",
       "      <td>1.0</td>\n",
       "      <td>1.0</td>\n",
       "      <td>...</td>\n",
       "      <td>0.100000</td>\n",
       "      <td>0.600000</td>\n",
       "      <td>0.000000</td>\n",
       "      <td>0.000000</td>\n",
       "      <td>0.000000</td>\n",
       "      <td>0.450000</td>\n",
       "      <td>0.400000</td>\n",
       "      <td>0.050000</td>\n",
       "      <td>0.400000</td>\n",
       "      <td>1500</td>\n",
       "    </tr>\n",
       "    <tr>\n",
       "      <th>24</th>\n",
       "      <td>http://mashable.com/2013/01/07/htc-q1/</td>\n",
       "      <td>731.0</td>\n",
       "      <td>13.0</td>\n",
       "      <td>244.0</td>\n",
       "      <td>0.560000</td>\n",
       "      <td>1.0</td>\n",
       "      <td>0.680272</td>\n",
       "      <td>3.0</td>\n",
       "      <td>2.0</td>\n",
       "      <td>1.0</td>\n",
       "      <td>...</td>\n",
       "      <td>0.136364</td>\n",
       "      <td>0.433333</td>\n",
       "      <td>-0.456481</td>\n",
       "      <td>-1.000000</td>\n",
       "      <td>-0.125000</td>\n",
       "      <td>0.700000</td>\n",
       "      <td>-0.400000</td>\n",
       "      <td>0.200000</td>\n",
       "      <td>0.400000</td>\n",
       "      <td>852</td>\n",
       "    </tr>\n",
       "    <tr>\n",
       "      <th>25</th>\n",
       "      <td>http://mashable.com/2013/01/07/huawei-ascend-m...</td>\n",
       "      <td>731.0</td>\n",
       "      <td>8.0</td>\n",
       "      <td>266.0</td>\n",
       "      <td>0.572581</td>\n",
       "      <td>1.0</td>\n",
       "      <td>0.721088</td>\n",
       "      <td>5.0</td>\n",
       "      <td>2.0</td>\n",
       "      <td>1.0</td>\n",
       "      <td>...</td>\n",
       "      <td>0.250000</td>\n",
       "      <td>0.350000</td>\n",
       "      <td>-0.116667</td>\n",
       "      <td>-0.200000</td>\n",
       "      <td>-0.050000</td>\n",
       "      <td>0.900000</td>\n",
       "      <td>0.400000</td>\n",
       "      <td>0.400000</td>\n",
       "      <td>0.400000</td>\n",
       "      <td>783</td>\n",
       "    </tr>\n",
       "    <tr>\n",
       "      <th>26</th>\n",
       "      <td>http://mashable.com/2013/01/07/iheartradio-app...</td>\n",
       "      <td>731.0</td>\n",
       "      <td>8.0</td>\n",
       "      <td>331.0</td>\n",
       "      <td>0.562691</td>\n",
       "      <td>1.0</td>\n",
       "      <td>0.724490</td>\n",
       "      <td>5.0</td>\n",
       "      <td>3.0</td>\n",
       "      <td>1.0</td>\n",
       "      <td>...</td>\n",
       "      <td>0.100000</td>\n",
       "      <td>1.000000</td>\n",
       "      <td>-0.263889</td>\n",
       "      <td>-0.500000</td>\n",
       "      <td>-0.125000</td>\n",
       "      <td>0.000000</td>\n",
       "      <td>0.000000</td>\n",
       "      <td>0.500000</td>\n",
       "      <td>0.000000</td>\n",
       "      <td>1500</td>\n",
       "    </tr>\n",
       "    <tr>\n",
       "      <th>27</th>\n",
       "      <td>http://mashable.com/2013/01/07/intel-awesome-l...</td>\n",
       "      <td>731.0</td>\n",
       "      <td>12.0</td>\n",
       "      <td>1225.0</td>\n",
       "      <td>0.385452</td>\n",
       "      <td>1.0</td>\n",
       "      <td>0.508519</td>\n",
       "      <td>22.0</td>\n",
       "      <td>22.0</td>\n",
       "      <td>28.0</td>\n",
       "      <td>...</td>\n",
       "      <td>0.050000</td>\n",
       "      <td>1.000000</td>\n",
       "      <td>-0.202292</td>\n",
       "      <td>-0.500000</td>\n",
       "      <td>-0.050000</td>\n",
       "      <td>0.500000</td>\n",
       "      <td>0.500000</td>\n",
       "      <td>0.000000</td>\n",
       "      <td>0.500000</td>\n",
       "      <td>1800</td>\n",
       "    </tr>\n",
       "    <tr>\n",
       "      <th>28</th>\n",
       "      <td>http://mashable.com/2013/01/07/isp02-iphone-ta...</td>\n",
       "      <td>731.0</td>\n",
       "      <td>10.0</td>\n",
       "      <td>243.0</td>\n",
       "      <td>0.619247</td>\n",
       "      <td>1.0</td>\n",
       "      <td>0.824427</td>\n",
       "      <td>1.0</td>\n",
       "      <td>1.0</td>\n",
       "      <td>0.0</td>\n",
       "      <td>...</td>\n",
       "      <td>0.136364</td>\n",
       "      <td>0.600000</td>\n",
       "      <td>-0.177500</td>\n",
       "      <td>-0.312500</td>\n",
       "      <td>-0.125000</td>\n",
       "      <td>0.000000</td>\n",
       "      <td>0.000000</td>\n",
       "      <td>0.500000</td>\n",
       "      <td>0.000000</td>\n",
       "      <td>462</td>\n",
       "    </tr>\n",
       "    <tr>\n",
       "      <th>29</th>\n",
       "      <td>http://mashable.com/2013/01/07/jobs-contently/</td>\n",
       "      <td>731.0</td>\n",
       "      <td>11.0</td>\n",
       "      <td>723.0</td>\n",
       "      <td>0.490934</td>\n",
       "      <td>1.0</td>\n",
       "      <td>0.642241</td>\n",
       "      <td>18.0</td>\n",
       "      <td>1.0</td>\n",
       "      <td>1.0</td>\n",
       "      <td>...</td>\n",
       "      <td>0.033333</td>\n",
       "      <td>1.000000</td>\n",
       "      <td>-0.213889</td>\n",
       "      <td>-0.600000</td>\n",
       "      <td>-0.100000</td>\n",
       "      <td>0.500000</td>\n",
       "      <td>0.500000</td>\n",
       "      <td>0.000000</td>\n",
       "      <td>0.500000</td>\n",
       "      <td>425</td>\n",
       "    </tr>\n",
       "    <tr>\n",
       "      <th>...</th>\n",
       "      <td>...</td>\n",
       "      <td>...</td>\n",
       "      <td>...</td>\n",
       "      <td>...</td>\n",
       "      <td>...</td>\n",
       "      <td>...</td>\n",
       "      <td>...</td>\n",
       "      <td>...</td>\n",
       "      <td>...</td>\n",
       "      <td>...</td>\n",
       "      <td>...</td>\n",
       "      <td>...</td>\n",
       "      <td>...</td>\n",
       "      <td>...</td>\n",
       "      <td>...</td>\n",
       "      <td>...</td>\n",
       "      <td>...</td>\n",
       "      <td>...</td>\n",
       "      <td>...</td>\n",
       "      <td>...</td>\n",
       "      <td>...</td>\n",
       "    </tr>\n",
       "    <tr>\n",
       "      <th>39614</th>\n",
       "      <td>http://mashable.com/2014/12/26/the-interview-i...</td>\n",
       "      <td>9.0</td>\n",
       "      <td>9.0</td>\n",
       "      <td>904.0</td>\n",
       "      <td>0.472158</td>\n",
       "      <td>1.0</td>\n",
       "      <td>0.606822</td>\n",
       "      <td>27.0</td>\n",
       "      <td>2.0</td>\n",
       "      <td>2.0</td>\n",
       "      <td>...</td>\n",
       "      <td>0.100000</td>\n",
       "      <td>0.600000</td>\n",
       "      <td>-0.225694</td>\n",
       "      <td>-0.500000</td>\n",
       "      <td>-0.050000</td>\n",
       "      <td>0.000000</td>\n",
       "      <td>0.000000</td>\n",
       "      <td>0.500000</td>\n",
       "      <td>0.000000</td>\n",
       "      <td>1400</td>\n",
       "    </tr>\n",
       "    <tr>\n",
       "      <th>39615</th>\n",
       "      <td>http://mashable.com/2014/12/26/toothpaste-fluo...</td>\n",
       "      <td>9.0</td>\n",
       "      <td>11.0</td>\n",
       "      <td>0.0</td>\n",
       "      <td>0.000000</td>\n",
       "      <td>0.0</td>\n",
       "      <td>0.000000</td>\n",
       "      <td>0.0</td>\n",
       "      <td>0.0</td>\n",
       "      <td>21.0</td>\n",
       "      <td>...</td>\n",
       "      <td>0.000000</td>\n",
       "      <td>0.000000</td>\n",
       "      <td>0.000000</td>\n",
       "      <td>0.000000</td>\n",
       "      <td>0.000000</td>\n",
       "      <td>0.454545</td>\n",
       "      <td>0.136364</td>\n",
       "      <td>0.045455</td>\n",
       "      <td>0.136364</td>\n",
       "      <td>5700</td>\n",
       "    </tr>\n",
       "    <tr>\n",
       "      <th>39616</th>\n",
       "      <td>http://mashable.com/2014/12/26/top-photography...</td>\n",
       "      <td>9.0</td>\n",
       "      <td>15.0</td>\n",
       "      <td>0.0</td>\n",
       "      <td>0.000000</td>\n",
       "      <td>0.0</td>\n",
       "      <td>0.000000</td>\n",
       "      <td>0.0</td>\n",
       "      <td>0.0</td>\n",
       "      <td>0.0</td>\n",
       "      <td>...</td>\n",
       "      <td>0.000000</td>\n",
       "      <td>0.000000</td>\n",
       "      <td>0.000000</td>\n",
       "      <td>0.000000</td>\n",
       "      <td>0.000000</td>\n",
       "      <td>0.454545</td>\n",
       "      <td>0.136364</td>\n",
       "      <td>0.045455</td>\n",
       "      <td>0.136364</td>\n",
       "      <td>2100</td>\n",
       "    </tr>\n",
       "    <tr>\n",
       "      <th>39617</th>\n",
       "      <td>http://mashable.com/2014/12/26/tor-attacked-li...</td>\n",
       "      <td>9.0</td>\n",
       "      <td>11.0</td>\n",
       "      <td>991.0</td>\n",
       "      <td>0.459173</td>\n",
       "      <td>1.0</td>\n",
       "      <td>0.618487</td>\n",
       "      <td>40.0</td>\n",
       "      <td>3.0</td>\n",
       "      <td>4.0</td>\n",
       "      <td>...</td>\n",
       "      <td>0.050000</td>\n",
       "      <td>1.000000</td>\n",
       "      <td>-0.188889</td>\n",
       "      <td>-0.500000</td>\n",
       "      <td>-0.050000</td>\n",
       "      <td>0.454545</td>\n",
       "      <td>0.136364</td>\n",
       "      <td>0.045455</td>\n",
       "      <td>0.136364</td>\n",
       "      <td>691</td>\n",
       "    </tr>\n",
       "    <tr>\n",
       "      <th>39618</th>\n",
       "      <td>http://mashable.com/2014/12/26/tsa-gift-wrap-r...</td>\n",
       "      <td>9.0</td>\n",
       "      <td>14.0</td>\n",
       "      <td>488.0</td>\n",
       "      <td>0.517454</td>\n",
       "      <td>1.0</td>\n",
       "      <td>0.683502</td>\n",
       "      <td>14.0</td>\n",
       "      <td>9.0</td>\n",
       "      <td>1.0</td>\n",
       "      <td>...</td>\n",
       "      <td>0.100000</td>\n",
       "      <td>0.800000</td>\n",
       "      <td>-0.170833</td>\n",
       "      <td>-0.250000</td>\n",
       "      <td>-0.125000</td>\n",
       "      <td>0.125000</td>\n",
       "      <td>-0.125000</td>\n",
       "      <td>0.375000</td>\n",
       "      <td>0.125000</td>\n",
       "      <td>1400</td>\n",
       "    </tr>\n",
       "    <tr>\n",
       "      <th>39619</th>\n",
       "      <td>http://mashable.com/2014/12/26/tsunami-10-year...</td>\n",
       "      <td>9.0</td>\n",
       "      <td>14.0</td>\n",
       "      <td>428.0</td>\n",
       "      <td>0.512881</td>\n",
       "      <td>1.0</td>\n",
       "      <td>0.698745</td>\n",
       "      <td>2.0</td>\n",
       "      <td>1.0</td>\n",
       "      <td>1.0</td>\n",
       "      <td>...</td>\n",
       "      <td>0.100000</td>\n",
       "      <td>0.700000</td>\n",
       "      <td>-0.271429</td>\n",
       "      <td>-0.700000</td>\n",
       "      <td>-0.100000</td>\n",
       "      <td>0.000000</td>\n",
       "      <td>0.000000</td>\n",
       "      <td>0.500000</td>\n",
       "      <td>0.000000</td>\n",
       "      <td>1200</td>\n",
       "    </tr>\n",
       "    <tr>\n",
       "      <th>39620</th>\n",
       "      <td>http://mashable.com/2014/12/26/turkey-teen-ins...</td>\n",
       "      <td>9.0</td>\n",
       "      <td>13.0</td>\n",
       "      <td>413.0</td>\n",
       "      <td>0.556675</td>\n",
       "      <td>1.0</td>\n",
       "      <td>0.692913</td>\n",
       "      <td>11.0</td>\n",
       "      <td>2.0</td>\n",
       "      <td>1.0</td>\n",
       "      <td>...</td>\n",
       "      <td>0.100000</td>\n",
       "      <td>0.500000</td>\n",
       "      <td>-0.525000</td>\n",
       "      <td>-0.750000</td>\n",
       "      <td>-0.300000</td>\n",
       "      <td>0.650000</td>\n",
       "      <td>0.000000</td>\n",
       "      <td>0.150000</td>\n",
       "      <td>0.000000</td>\n",
       "      <td>2400</td>\n",
       "    </tr>\n",
       "    <tr>\n",
       "      <th>39621</th>\n",
       "      <td>http://mashable.com/2014/12/26/ukraine-prisone...</td>\n",
       "      <td>9.0</td>\n",
       "      <td>9.0</td>\n",
       "      <td>468.0</td>\n",
       "      <td>0.582781</td>\n",
       "      <td>1.0</td>\n",
       "      <td>0.691318</td>\n",
       "      <td>17.0</td>\n",
       "      <td>1.0</td>\n",
       "      <td>1.0</td>\n",
       "      <td>...</td>\n",
       "      <td>0.100000</td>\n",
       "      <td>0.500000</td>\n",
       "      <td>-0.282500</td>\n",
       "      <td>-0.700000</td>\n",
       "      <td>-0.100000</td>\n",
       "      <td>0.000000</td>\n",
       "      <td>0.000000</td>\n",
       "      <td>0.500000</td>\n",
       "      <td>0.000000</td>\n",
       "      <td>24300</td>\n",
       "    </tr>\n",
       "    <tr>\n",
       "      <th>39622</th>\n",
       "      <td>http://mashable.com/2014/12/26/wacky-kickstart...</td>\n",
       "      <td>9.0</td>\n",
       "      <td>11.0</td>\n",
       "      <td>1122.0</td>\n",
       "      <td>0.439421</td>\n",
       "      <td>1.0</td>\n",
       "      <td>0.635258</td>\n",
       "      <td>4.0</td>\n",
       "      <td>1.0</td>\n",
       "      <td>6.0</td>\n",
       "      <td>...</td>\n",
       "      <td>0.100000</td>\n",
       "      <td>1.000000</td>\n",
       "      <td>-0.262500</td>\n",
       "      <td>-1.000000</td>\n",
       "      <td>-0.100000</td>\n",
       "      <td>0.300000</td>\n",
       "      <td>0.166667</td>\n",
       "      <td>0.200000</td>\n",
       "      <td>0.166667</td>\n",
       "      <td>2900</td>\n",
       "    </tr>\n",
       "    <tr>\n",
       "      <th>39623</th>\n",
       "      <td>http://mashable.com/2014/12/26/what-is-tor/</td>\n",
       "      <td>9.0</td>\n",
       "      <td>14.0</td>\n",
       "      <td>436.0</td>\n",
       "      <td>0.529412</td>\n",
       "      <td>1.0</td>\n",
       "      <td>0.701681</td>\n",
       "      <td>6.0</td>\n",
       "      <td>6.0</td>\n",
       "      <td>2.0</td>\n",
       "      <td>...</td>\n",
       "      <td>0.100000</td>\n",
       "      <td>0.700000</td>\n",
       "      <td>-0.255208</td>\n",
       "      <td>-0.500000</td>\n",
       "      <td>-0.100000</td>\n",
       "      <td>0.850000</td>\n",
       "      <td>-0.400000</td>\n",
       "      <td>0.350000</td>\n",
       "      <td>0.400000</td>\n",
       "      <td>947</td>\n",
       "    </tr>\n",
       "    <tr>\n",
       "      <th>39624</th>\n",
       "      <td>http://mashable.com/2014/12/27/air-asia-flight...</td>\n",
       "      <td>9.0</td>\n",
       "      <td>12.0</td>\n",
       "      <td>429.0</td>\n",
       "      <td>0.514925</td>\n",
       "      <td>1.0</td>\n",
       "      <td>0.658436</td>\n",
       "      <td>3.0</td>\n",
       "      <td>3.0</td>\n",
       "      <td>3.0</td>\n",
       "      <td>...</td>\n",
       "      <td>0.166667</td>\n",
       "      <td>0.750000</td>\n",
       "      <td>-0.179847</td>\n",
       "      <td>-0.312500</td>\n",
       "      <td>-0.025000</td>\n",
       "      <td>0.000000</td>\n",
       "      <td>0.000000</td>\n",
       "      <td>0.500000</td>\n",
       "      <td>0.000000</td>\n",
       "      <td>3200</td>\n",
       "    </tr>\n",
       "    <tr>\n",
       "      <th>39625</th>\n",
       "      <td>http://mashable.com/2014/12/27/als-ice-bucket-...</td>\n",
       "      <td>9.0</td>\n",
       "      <td>13.0</td>\n",
       "      <td>224.0</td>\n",
       "      <td>0.570136</td>\n",
       "      <td>1.0</td>\n",
       "      <td>0.731343</td>\n",
       "      <td>7.0</td>\n",
       "      <td>7.0</td>\n",
       "      <td>1.0</td>\n",
       "      <td>...</td>\n",
       "      <td>0.100000</td>\n",
       "      <td>0.500000</td>\n",
       "      <td>-0.071429</td>\n",
       "      <td>-0.071429</td>\n",
       "      <td>-0.071429</td>\n",
       "      <td>0.800000</td>\n",
       "      <td>0.400000</td>\n",
       "      <td>0.300000</td>\n",
       "      <td>0.400000</td>\n",
       "      <td>1400</td>\n",
       "    </tr>\n",
       "    <tr>\n",
       "      <th>39626</th>\n",
       "      <td>http://mashable.com/2014/12/27/christmas-tree-...</td>\n",
       "      <td>9.0</td>\n",
       "      <td>12.0</td>\n",
       "      <td>249.0</td>\n",
       "      <td>0.567227</td>\n",
       "      <td>1.0</td>\n",
       "      <td>0.748201</td>\n",
       "      <td>4.0</td>\n",
       "      <td>2.0</td>\n",
       "      <td>1.0</td>\n",
       "      <td>...</td>\n",
       "      <td>0.136364</td>\n",
       "      <td>1.000000</td>\n",
       "      <td>-0.145833</td>\n",
       "      <td>-0.166667</td>\n",
       "      <td>-0.125000</td>\n",
       "      <td>0.000000</td>\n",
       "      <td>0.000000</td>\n",
       "      <td>0.500000</td>\n",
       "      <td>0.000000</td>\n",
       "      <td>1100</td>\n",
       "    </tr>\n",
       "    <tr>\n",
       "      <th>39627</th>\n",
       "      <td>http://mashable.com/2014/12/27/extremist-leade...</td>\n",
       "      <td>9.0</td>\n",
       "      <td>14.0</td>\n",
       "      <td>874.0</td>\n",
       "      <td>0.480702</td>\n",
       "      <td>1.0</td>\n",
       "      <td>0.711538</td>\n",
       "      <td>13.0</td>\n",
       "      <td>1.0</td>\n",
       "      <td>1.0</td>\n",
       "      <td>...</td>\n",
       "      <td>0.100000</td>\n",
       "      <td>0.600000</td>\n",
       "      <td>-0.325000</td>\n",
       "      <td>-0.600000</td>\n",
       "      <td>-0.125000</td>\n",
       "      <td>0.577273</td>\n",
       "      <td>-0.131818</td>\n",
       "      <td>0.077273</td>\n",
       "      <td>0.131818</td>\n",
       "      <td>1200</td>\n",
       "    </tr>\n",
       "    <tr>\n",
       "      <th>39628</th>\n",
       "      <td>http://mashable.com/2014/12/27/facebook-year-i...</td>\n",
       "      <td>9.0</td>\n",
       "      <td>14.0</td>\n",
       "      <td>626.0</td>\n",
       "      <td>0.552504</td>\n",
       "      <td>1.0</td>\n",
       "      <td>0.759791</td>\n",
       "      <td>4.0</td>\n",
       "      <td>2.0</td>\n",
       "      <td>1.0</td>\n",
       "      <td>...</td>\n",
       "      <td>0.033333</td>\n",
       "      <td>0.800000</td>\n",
       "      <td>-0.558333</td>\n",
       "      <td>-1.000000</td>\n",
       "      <td>-0.100000</td>\n",
       "      <td>0.000000</td>\n",
       "      <td>0.000000</td>\n",
       "      <td>0.500000</td>\n",
       "      <td>0.000000</td>\n",
       "      <td>1000</td>\n",
       "    </tr>\n",
       "    <tr>\n",
       "      <th>39629</th>\n",
       "      <td>http://mashable.com/2014/12/27/frozen-doll-prank/</td>\n",
       "      <td>9.0</td>\n",
       "      <td>13.0</td>\n",
       "      <td>209.0</td>\n",
       "      <td>0.656863</td>\n",
       "      <td>1.0</td>\n",
       "      <td>0.722628</td>\n",
       "      <td>4.0</td>\n",
       "      <td>1.0</td>\n",
       "      <td>0.0</td>\n",
       "      <td>...</td>\n",
       "      <td>0.200000</td>\n",
       "      <td>0.850000</td>\n",
       "      <td>-0.366667</td>\n",
       "      <td>-0.500000</td>\n",
       "      <td>-0.100000</td>\n",
       "      <td>1.000000</td>\n",
       "      <td>-0.500000</td>\n",
       "      <td>0.500000</td>\n",
       "      <td>0.500000</td>\n",
       "      <td>2400</td>\n",
       "    </tr>\n",
       "    <tr>\n",
       "      <th>39630</th>\n",
       "      <td>http://mashable.com/2014/12/27/high-school-i-c...</td>\n",
       "      <td>9.0</td>\n",
       "      <td>12.0</td>\n",
       "      <td>491.0</td>\n",
       "      <td>0.454167</td>\n",
       "      <td>1.0</td>\n",
       "      <td>0.609665</td>\n",
       "      <td>2.0</td>\n",
       "      <td>2.0</td>\n",
       "      <td>2.0</td>\n",
       "      <td>...</td>\n",
       "      <td>0.062500</td>\n",
       "      <td>0.900000</td>\n",
       "      <td>-0.164881</td>\n",
       "      <td>-0.333333</td>\n",
       "      <td>-0.050000</td>\n",
       "      <td>0.477273</td>\n",
       "      <td>0.168182</td>\n",
       "      <td>0.022727</td>\n",
       "      <td>0.168182</td>\n",
       "      <td>1500</td>\n",
       "    </tr>\n",
       "    <tr>\n",
       "      <th>39631</th>\n",
       "      <td>http://mashable.com/2014/12/27/japan-elderly-d...</td>\n",
       "      <td>9.0</td>\n",
       "      <td>13.0</td>\n",
       "      <td>746.0</td>\n",
       "      <td>0.465306</td>\n",
       "      <td>1.0</td>\n",
       "      <td>0.735849</td>\n",
       "      <td>4.0</td>\n",
       "      <td>1.0</td>\n",
       "      <td>1.0</td>\n",
       "      <td>...</td>\n",
       "      <td>0.100000</td>\n",
       "      <td>0.850000</td>\n",
       "      <td>-0.375000</td>\n",
       "      <td>-1.000000</td>\n",
       "      <td>-0.050000</td>\n",
       "      <td>1.000000</td>\n",
       "      <td>-1.000000</td>\n",
       "      <td>0.500000</td>\n",
       "      <td>1.000000</td>\n",
       "      <td>914</td>\n",
       "    </tr>\n",
       "    <tr>\n",
       "      <th>39632</th>\n",
       "      <td>http://mashable.com/2014/12/27/las-vegas-new-y...</td>\n",
       "      <td>9.0</td>\n",
       "      <td>15.0</td>\n",
       "      <td>580.0</td>\n",
       "      <td>0.506261</td>\n",
       "      <td>1.0</td>\n",
       "      <td>0.661891</td>\n",
       "      <td>15.0</td>\n",
       "      <td>2.0</td>\n",
       "      <td>3.0</td>\n",
       "      <td>...</td>\n",
       "      <td>0.100000</td>\n",
       "      <td>0.800000</td>\n",
       "      <td>-0.115000</td>\n",
       "      <td>-0.125000</td>\n",
       "      <td>-0.100000</td>\n",
       "      <td>0.500000</td>\n",
       "      <td>0.500000</td>\n",
       "      <td>0.000000</td>\n",
       "      <td>0.500000</td>\n",
       "      <td>1700</td>\n",
       "    </tr>\n",
       "    <tr>\n",
       "      <th>39633</th>\n",
       "      <td>http://mashable.com/2014/12/27/lbj-adviser-sla...</td>\n",
       "      <td>9.0</td>\n",
       "      <td>9.0</td>\n",
       "      <td>614.0</td>\n",
       "      <td>0.476033</td>\n",
       "      <td>1.0</td>\n",
       "      <td>0.614987</td>\n",
       "      <td>10.0</td>\n",
       "      <td>0.0</td>\n",
       "      <td>1.0</td>\n",
       "      <td>...</td>\n",
       "      <td>0.050000</td>\n",
       "      <td>0.800000</td>\n",
       "      <td>-0.181313</td>\n",
       "      <td>-0.300000</td>\n",
       "      <td>-0.050000</td>\n",
       "      <td>0.000000</td>\n",
       "      <td>0.000000</td>\n",
       "      <td>0.500000</td>\n",
       "      <td>0.000000</td>\n",
       "      <td>1500</td>\n",
       "    </tr>\n",
       "    <tr>\n",
       "      <th>39634</th>\n",
       "      <td>http://mashable.com/2014/12/27/music-grid-outf...</td>\n",
       "      <td>9.0</td>\n",
       "      <td>9.0</td>\n",
       "      <td>251.0</td>\n",
       "      <td>0.666667</td>\n",
       "      <td>1.0</td>\n",
       "      <td>0.786164</td>\n",
       "      <td>21.0</td>\n",
       "      <td>13.0</td>\n",
       "      <td>9.0</td>\n",
       "      <td>...</td>\n",
       "      <td>0.250000</td>\n",
       "      <td>1.000000</td>\n",
       "      <td>-0.558333</td>\n",
       "      <td>-1.000000</td>\n",
       "      <td>-0.125000</td>\n",
       "      <td>0.000000</td>\n",
       "      <td>0.000000</td>\n",
       "      <td>0.500000</td>\n",
       "      <td>0.000000</td>\n",
       "      <td>1000</td>\n",
       "    </tr>\n",
       "    <tr>\n",
       "      <th>39635</th>\n",
       "      <td>http://mashable.com/2014/12/27/nike-marc-newson/</td>\n",
       "      <td>9.0</td>\n",
       "      <td>13.0</td>\n",
       "      <td>478.0</td>\n",
       "      <td>0.514039</td>\n",
       "      <td>1.0</td>\n",
       "      <td>0.641844</td>\n",
       "      <td>18.0</td>\n",
       "      <td>2.0</td>\n",
       "      <td>2.0</td>\n",
       "      <td>...</td>\n",
       "      <td>0.033333</td>\n",
       "      <td>1.000000</td>\n",
       "      <td>-0.223611</td>\n",
       "      <td>-0.400000</td>\n",
       "      <td>-0.050000</td>\n",
       "      <td>0.100000</td>\n",
       "      <td>0.000000</td>\n",
       "      <td>0.400000</td>\n",
       "      <td>0.000000</td>\n",
       "      <td>1300</td>\n",
       "    </tr>\n",
       "    <tr>\n",
       "      <th>39636</th>\n",
       "      <td>http://mashable.com/2014/12/27/north-korea-int...</td>\n",
       "      <td>8.0</td>\n",
       "      <td>8.0</td>\n",
       "      <td>2509.0</td>\n",
       "      <td>0.348878</td>\n",
       "      <td>1.0</td>\n",
       "      <td>0.464923</td>\n",
       "      <td>23.0</td>\n",
       "      <td>1.0</td>\n",
       "      <td>10.0</td>\n",
       "      <td>...</td>\n",
       "      <td>0.100000</td>\n",
       "      <td>1.000000</td>\n",
       "      <td>-0.231612</td>\n",
       "      <td>-0.600000</td>\n",
       "      <td>-0.050000</td>\n",
       "      <td>0.000000</td>\n",
       "      <td>0.000000</td>\n",
       "      <td>0.500000</td>\n",
       "      <td>0.000000</td>\n",
       "      <td>1700</td>\n",
       "    </tr>\n",
       "    <tr>\n",
       "      <th>39637</th>\n",
       "      <td>http://mashable.com/2014/12/27/nypd-rafael-ram...</td>\n",
       "      <td>8.0</td>\n",
       "      <td>13.0</td>\n",
       "      <td>1629.0</td>\n",
       "      <td>0.425711</td>\n",
       "      <td>1.0</td>\n",
       "      <td>0.606092</td>\n",
       "      <td>15.0</td>\n",
       "      <td>12.0</td>\n",
       "      <td>6.0</td>\n",
       "      <td>...</td>\n",
       "      <td>0.033333</td>\n",
       "      <td>1.000000</td>\n",
       "      <td>-0.429534</td>\n",
       "      <td>-1.000000</td>\n",
       "      <td>-0.050000</td>\n",
       "      <td>0.783333</td>\n",
       "      <td>-0.600000</td>\n",
       "      <td>0.283333</td>\n",
       "      <td>0.600000</td>\n",
       "      <td>1400</td>\n",
       "    </tr>\n",
       "    <tr>\n",
       "      <th>39638</th>\n",
       "      <td>http://mashable.com/2014/12/27/protests-contin...</td>\n",
       "      <td>8.0</td>\n",
       "      <td>11.0</td>\n",
       "      <td>223.0</td>\n",
       "      <td>0.653153</td>\n",
       "      <td>1.0</td>\n",
       "      <td>0.825758</td>\n",
       "      <td>5.0</td>\n",
       "      <td>3.0</td>\n",
       "      <td>1.0</td>\n",
       "      <td>...</td>\n",
       "      <td>0.214286</td>\n",
       "      <td>0.800000</td>\n",
       "      <td>-0.250000</td>\n",
       "      <td>-0.250000</td>\n",
       "      <td>-0.250000</td>\n",
       "      <td>0.000000</td>\n",
       "      <td>0.000000</td>\n",
       "      <td>0.500000</td>\n",
       "      <td>0.000000</td>\n",
       "      <td>1200</td>\n",
       "    </tr>\n",
       "    <tr>\n",
       "      <th>39639</th>\n",
       "      <td>http://mashable.com/2014/12/27/samsung-app-aut...</td>\n",
       "      <td>8.0</td>\n",
       "      <td>11.0</td>\n",
       "      <td>346.0</td>\n",
       "      <td>0.529052</td>\n",
       "      <td>1.0</td>\n",
       "      <td>0.684783</td>\n",
       "      <td>9.0</td>\n",
       "      <td>7.0</td>\n",
       "      <td>1.0</td>\n",
       "      <td>...</td>\n",
       "      <td>0.100000</td>\n",
       "      <td>0.750000</td>\n",
       "      <td>-0.260000</td>\n",
       "      <td>-0.500000</td>\n",
       "      <td>-0.125000</td>\n",
       "      <td>0.100000</td>\n",
       "      <td>0.000000</td>\n",
       "      <td>0.400000</td>\n",
       "      <td>0.000000</td>\n",
       "      <td>1800</td>\n",
       "    </tr>\n",
       "    <tr>\n",
       "      <th>39640</th>\n",
       "      <td>http://mashable.com/2014/12/27/seth-rogen-jame...</td>\n",
       "      <td>8.0</td>\n",
       "      <td>12.0</td>\n",
       "      <td>328.0</td>\n",
       "      <td>0.696296</td>\n",
       "      <td>1.0</td>\n",
       "      <td>0.885057</td>\n",
       "      <td>9.0</td>\n",
       "      <td>7.0</td>\n",
       "      <td>3.0</td>\n",
       "      <td>...</td>\n",
       "      <td>0.136364</td>\n",
       "      <td>0.700000</td>\n",
       "      <td>-0.211111</td>\n",
       "      <td>-0.400000</td>\n",
       "      <td>-0.100000</td>\n",
       "      <td>0.300000</td>\n",
       "      <td>1.000000</td>\n",
       "      <td>0.200000</td>\n",
       "      <td>1.000000</td>\n",
       "      <td>1900</td>\n",
       "    </tr>\n",
       "    <tr>\n",
       "      <th>39641</th>\n",
       "      <td>http://mashable.com/2014/12/27/son-pays-off-mo...</td>\n",
       "      <td>8.0</td>\n",
       "      <td>10.0</td>\n",
       "      <td>442.0</td>\n",
       "      <td>0.516355</td>\n",
       "      <td>1.0</td>\n",
       "      <td>0.644128</td>\n",
       "      <td>24.0</td>\n",
       "      <td>1.0</td>\n",
       "      <td>12.0</td>\n",
       "      <td>...</td>\n",
       "      <td>0.136364</td>\n",
       "      <td>0.500000</td>\n",
       "      <td>-0.356439</td>\n",
       "      <td>-0.800000</td>\n",
       "      <td>-0.166667</td>\n",
       "      <td>0.454545</td>\n",
       "      <td>0.136364</td>\n",
       "      <td>0.045455</td>\n",
       "      <td>0.136364</td>\n",
       "      <td>1900</td>\n",
       "    </tr>\n",
       "    <tr>\n",
       "      <th>39642</th>\n",
       "      <td>http://mashable.com/2014/12/27/ukraine-blasts/</td>\n",
       "      <td>8.0</td>\n",
       "      <td>6.0</td>\n",
       "      <td>682.0</td>\n",
       "      <td>0.539493</td>\n",
       "      <td>1.0</td>\n",
       "      <td>0.692661</td>\n",
       "      <td>10.0</td>\n",
       "      <td>1.0</td>\n",
       "      <td>1.0</td>\n",
       "      <td>...</td>\n",
       "      <td>0.062500</td>\n",
       "      <td>0.500000</td>\n",
       "      <td>-0.205246</td>\n",
       "      <td>-0.500000</td>\n",
       "      <td>-0.012500</td>\n",
       "      <td>0.000000</td>\n",
       "      <td>0.000000</td>\n",
       "      <td>0.500000</td>\n",
       "      <td>0.000000</td>\n",
       "      <td>1100</td>\n",
       "    </tr>\n",
       "    <tr>\n",
       "      <th>39643</th>\n",
       "      <td>http://mashable.com/2014/12/27/youtube-channel...</td>\n",
       "      <td>8.0</td>\n",
       "      <td>10.0</td>\n",
       "      <td>157.0</td>\n",
       "      <td>0.701987</td>\n",
       "      <td>1.0</td>\n",
       "      <td>0.846154</td>\n",
       "      <td>1.0</td>\n",
       "      <td>1.0</td>\n",
       "      <td>0.0</td>\n",
       "      <td>...</td>\n",
       "      <td>0.100000</td>\n",
       "      <td>0.500000</td>\n",
       "      <td>-0.200000</td>\n",
       "      <td>-0.200000</td>\n",
       "      <td>-0.200000</td>\n",
       "      <td>0.333333</td>\n",
       "      <td>0.250000</td>\n",
       "      <td>0.166667</td>\n",
       "      <td>0.250000</td>\n",
       "      <td>1300</td>\n",
       "    </tr>\n",
       "  </tbody>\n",
       "</table>\n",
       "<p>39644 rows × 61 columns</p>\n",
       "</div>"
      ],
      "text/plain": [
       "                                                     url  timedelta  \\\n",
       "0      http://mashable.com/2013/01/07/amazon-instant-...      731.0   \n",
       "1      http://mashable.com/2013/01/07/ap-samsung-spon...      731.0   \n",
       "2      http://mashable.com/2013/01/07/apple-40-billio...      731.0   \n",
       "3      http://mashable.com/2013/01/07/astronaut-notre...      731.0   \n",
       "4       http://mashable.com/2013/01/07/att-u-verse-apps/      731.0   \n",
       "5       http://mashable.com/2013/01/07/beewi-smart-toys/      731.0   \n",
       "6      http://mashable.com/2013/01/07/bodymedia-armba...      731.0   \n",
       "7       http://mashable.com/2013/01/07/canon-poweshot-n/      731.0   \n",
       "8      http://mashable.com/2013/01/07/car-of-the-futu...      731.0   \n",
       "9      http://mashable.com/2013/01/07/chuck-hagel-web...      731.0   \n",
       "10     http://mashable.com/2013/01/07/cosmic-events-d...      731.0   \n",
       "11      http://mashable.com/2013/01/07/crayon-creatures/      731.0   \n",
       "12         http://mashable.com/2013/01/07/creature-cups/      731.0   \n",
       "13             http://mashable.com/2013/01/07/dad-jokes/      731.0   \n",
       "14     http://mashable.com/2013/01/07/downton-abbey-t...      731.0   \n",
       "15     http://mashable.com/2013/01/07/earth-size-plan...      731.0   \n",
       "16             http://mashable.com/2013/01/07/echo-game/      731.0   \n",
       "17     http://mashable.com/2013/01/07/entrepreneur-tr...      731.0   \n",
       "18     http://mashable.com/2013/01/07/facebook-sick-app/      731.0   \n",
       "19     http://mashable.com/2013/01/07/felt-audio-puls...      731.0   \n",
       "20          http://mashable.com/2013/01/07/ford-glympse/      731.0   \n",
       "21      http://mashable.com/2013/01/07/ftc-google-leaks/      731.0   \n",
       "22     http://mashable.com/2013/01/07/fujifilm-50x-su...      731.0   \n",
       "23     http://mashable.com/2013/01/07/hillary-clinton...      731.0   \n",
       "24                http://mashable.com/2013/01/07/htc-q1/      731.0   \n",
       "25     http://mashable.com/2013/01/07/huawei-ascend-m...      731.0   \n",
       "26     http://mashable.com/2013/01/07/iheartradio-app...      731.0   \n",
       "27     http://mashable.com/2013/01/07/intel-awesome-l...      731.0   \n",
       "28     http://mashable.com/2013/01/07/isp02-iphone-ta...      731.0   \n",
       "29        http://mashable.com/2013/01/07/jobs-contently/      731.0   \n",
       "...                                                  ...        ...   \n",
       "39614  http://mashable.com/2014/12/26/the-interview-i...        9.0   \n",
       "39615  http://mashable.com/2014/12/26/toothpaste-fluo...        9.0   \n",
       "39616  http://mashable.com/2014/12/26/top-photography...        9.0   \n",
       "39617  http://mashable.com/2014/12/26/tor-attacked-li...        9.0   \n",
       "39618  http://mashable.com/2014/12/26/tsa-gift-wrap-r...        9.0   \n",
       "39619  http://mashable.com/2014/12/26/tsunami-10-year...        9.0   \n",
       "39620  http://mashable.com/2014/12/26/turkey-teen-ins...        9.0   \n",
       "39621  http://mashable.com/2014/12/26/ukraine-prisone...        9.0   \n",
       "39622  http://mashable.com/2014/12/26/wacky-kickstart...        9.0   \n",
       "39623        http://mashable.com/2014/12/26/what-is-tor/        9.0   \n",
       "39624  http://mashable.com/2014/12/27/air-asia-flight...        9.0   \n",
       "39625  http://mashable.com/2014/12/27/als-ice-bucket-...        9.0   \n",
       "39626  http://mashable.com/2014/12/27/christmas-tree-...        9.0   \n",
       "39627  http://mashable.com/2014/12/27/extremist-leade...        9.0   \n",
       "39628  http://mashable.com/2014/12/27/facebook-year-i...        9.0   \n",
       "39629  http://mashable.com/2014/12/27/frozen-doll-prank/        9.0   \n",
       "39630  http://mashable.com/2014/12/27/high-school-i-c...        9.0   \n",
       "39631  http://mashable.com/2014/12/27/japan-elderly-d...        9.0   \n",
       "39632  http://mashable.com/2014/12/27/las-vegas-new-y...        9.0   \n",
       "39633  http://mashable.com/2014/12/27/lbj-adviser-sla...        9.0   \n",
       "39634  http://mashable.com/2014/12/27/music-grid-outf...        9.0   \n",
       "39635   http://mashable.com/2014/12/27/nike-marc-newson/        9.0   \n",
       "39636  http://mashable.com/2014/12/27/north-korea-int...        8.0   \n",
       "39637  http://mashable.com/2014/12/27/nypd-rafael-ram...        8.0   \n",
       "39638  http://mashable.com/2014/12/27/protests-contin...        8.0   \n",
       "39639  http://mashable.com/2014/12/27/samsung-app-aut...        8.0   \n",
       "39640  http://mashable.com/2014/12/27/seth-rogen-jame...        8.0   \n",
       "39641  http://mashable.com/2014/12/27/son-pays-off-mo...        8.0   \n",
       "39642     http://mashable.com/2014/12/27/ukraine-blasts/        8.0   \n",
       "39643  http://mashable.com/2014/12/27/youtube-channel...        8.0   \n",
       "\n",
       "       n_tokens_title  n_tokens_content  n_unique_tokens  n_non_stop_words  \\\n",
       "0                12.0             219.0         0.663594               1.0   \n",
       "1                 9.0             255.0         0.604743               1.0   \n",
       "2                 9.0             211.0         0.575130               1.0   \n",
       "3                 9.0             531.0         0.503788               1.0   \n",
       "4                13.0            1072.0         0.415646               1.0   \n",
       "5                10.0             370.0         0.559889               1.0   \n",
       "6                 8.0             960.0         0.418163               1.0   \n",
       "7                12.0             989.0         0.433574               1.0   \n",
       "8                11.0              97.0         0.670103               1.0   \n",
       "9                10.0             231.0         0.636364               1.0   \n",
       "10                9.0            1248.0         0.490050               1.0   \n",
       "11               10.0             187.0         0.666667               1.0   \n",
       "12                9.0             274.0         0.609195               1.0   \n",
       "13                9.0             285.0         0.744186               1.0   \n",
       "14                8.0             259.0         0.562753               1.0   \n",
       "15               12.0             682.0         0.459542               1.0   \n",
       "16                8.0            1118.0         0.512397               1.0   \n",
       "17                8.0             397.0         0.624679               1.0   \n",
       "18               11.0             103.0         0.689320               1.0   \n",
       "19                8.0            1207.0         0.410579               1.0   \n",
       "20               13.0            1248.0         0.390638               1.0   \n",
       "21                9.0             391.0         0.510256               1.0   \n",
       "22               11.0            1154.0         0.427305               1.0   \n",
       "23               11.0             125.0         0.674797               1.0   \n",
       "24               13.0             244.0         0.560000               1.0   \n",
       "25                8.0             266.0         0.572581               1.0   \n",
       "26                8.0             331.0         0.562691               1.0   \n",
       "27               12.0            1225.0         0.385452               1.0   \n",
       "28               10.0             243.0         0.619247               1.0   \n",
       "29               11.0             723.0         0.490934               1.0   \n",
       "...               ...               ...              ...               ...   \n",
       "39614             9.0             904.0         0.472158               1.0   \n",
       "39615            11.0               0.0         0.000000               0.0   \n",
       "39616            15.0               0.0         0.000000               0.0   \n",
       "39617            11.0             991.0         0.459173               1.0   \n",
       "39618            14.0             488.0         0.517454               1.0   \n",
       "39619            14.0             428.0         0.512881               1.0   \n",
       "39620            13.0             413.0         0.556675               1.0   \n",
       "39621             9.0             468.0         0.582781               1.0   \n",
       "39622            11.0            1122.0         0.439421               1.0   \n",
       "39623            14.0             436.0         0.529412               1.0   \n",
       "39624            12.0             429.0         0.514925               1.0   \n",
       "39625            13.0             224.0         0.570136               1.0   \n",
       "39626            12.0             249.0         0.567227               1.0   \n",
       "39627            14.0             874.0         0.480702               1.0   \n",
       "39628            14.0             626.0         0.552504               1.0   \n",
       "39629            13.0             209.0         0.656863               1.0   \n",
       "39630            12.0             491.0         0.454167               1.0   \n",
       "39631            13.0             746.0         0.465306               1.0   \n",
       "39632            15.0             580.0         0.506261               1.0   \n",
       "39633             9.0             614.0         0.476033               1.0   \n",
       "39634             9.0             251.0         0.666667               1.0   \n",
       "39635            13.0             478.0         0.514039               1.0   \n",
       "39636             8.0            2509.0         0.348878               1.0   \n",
       "39637            13.0            1629.0         0.425711               1.0   \n",
       "39638            11.0             223.0         0.653153               1.0   \n",
       "39639            11.0             346.0         0.529052               1.0   \n",
       "39640            12.0             328.0         0.696296               1.0   \n",
       "39641            10.0             442.0         0.516355               1.0   \n",
       "39642             6.0             682.0         0.539493               1.0   \n",
       "39643            10.0             157.0         0.701987               1.0   \n",
       "\n",
       "       n_non_stop_unique_tokens  num_hrefs  num_self_hrefs  num_imgs   ...    \\\n",
       "0                      0.815385        4.0             2.0       1.0   ...     \n",
       "1                      0.791946        3.0             1.0       1.0   ...     \n",
       "2                      0.663866        3.0             1.0       1.0   ...     \n",
       "3                      0.665635        9.0             0.0       1.0   ...     \n",
       "4                      0.540890       19.0            19.0      20.0   ...     \n",
       "5                      0.698198        2.0             2.0       0.0   ...     \n",
       "6                      0.549834       21.0            20.0      20.0   ...     \n",
       "7                      0.572108       20.0            20.0      20.0   ...     \n",
       "8                      0.836735        2.0             0.0       0.0   ...     \n",
       "9                      0.797101        4.0             1.0       1.0   ...     \n",
       "10                     0.731638       11.0             0.0       1.0   ...     \n",
       "11                     0.800000        7.0             0.0       1.0   ...     \n",
       "12                     0.707602       18.0             2.0      11.0   ...     \n",
       "13                     0.841530        4.0             2.0       0.0   ...     \n",
       "14                     0.644444       19.0             3.0       9.0   ...     \n",
       "15                     0.634961       10.0             0.0       1.0   ...     \n",
       "16                     0.709770       26.0            18.0      12.0   ...     \n",
       "17                     0.805668       11.0             0.0       1.0   ...     \n",
       "18                     0.806452        3.0             1.0       1.0   ...     \n",
       "19                     0.548969       24.0            24.0      42.0   ...     \n",
       "20                     0.523388       21.0            19.0      20.0   ...     \n",
       "21                     0.650000        9.0             2.0       1.0   ...     \n",
       "22                     0.572816       20.0            20.0      20.0   ...     \n",
       "23                     0.797468        1.0             1.0       1.0   ...     \n",
       "24                     0.680272        3.0             2.0       1.0   ...     \n",
       "25                     0.721088        5.0             2.0       1.0   ...     \n",
       "26                     0.724490        5.0             3.0       1.0   ...     \n",
       "27                     0.508519       22.0            22.0      28.0   ...     \n",
       "28                     0.824427        1.0             1.0       0.0   ...     \n",
       "29                     0.642241       18.0             1.0       1.0   ...     \n",
       "...                         ...        ...             ...       ...   ...     \n",
       "39614                  0.606822       27.0             2.0       2.0   ...     \n",
       "39615                  0.000000        0.0             0.0      21.0   ...     \n",
       "39616                  0.000000        0.0             0.0       0.0   ...     \n",
       "39617                  0.618487       40.0             3.0       4.0   ...     \n",
       "39618                  0.683502       14.0             9.0       1.0   ...     \n",
       "39619                  0.698745        2.0             1.0       1.0   ...     \n",
       "39620                  0.692913       11.0             2.0       1.0   ...     \n",
       "39621                  0.691318       17.0             1.0       1.0   ...     \n",
       "39622                  0.635258        4.0             1.0       6.0   ...     \n",
       "39623                  0.701681        6.0             6.0       2.0   ...     \n",
       "39624                  0.658436        3.0             3.0       3.0   ...     \n",
       "39625                  0.731343        7.0             7.0       1.0   ...     \n",
       "39626                  0.748201        4.0             2.0       1.0   ...     \n",
       "39627                  0.711538       13.0             1.0       1.0   ...     \n",
       "39628                  0.759791        4.0             2.0       1.0   ...     \n",
       "39629                  0.722628        4.0             1.0       0.0   ...     \n",
       "39630                  0.609665        2.0             2.0       2.0   ...     \n",
       "39631                  0.735849        4.0             1.0       1.0   ...     \n",
       "39632                  0.661891       15.0             2.0       3.0   ...     \n",
       "39633                  0.614987       10.0             0.0       1.0   ...     \n",
       "39634                  0.786164       21.0            13.0       9.0   ...     \n",
       "39635                  0.641844       18.0             2.0       2.0   ...     \n",
       "39636                  0.464923       23.0             1.0      10.0   ...     \n",
       "39637                  0.606092       15.0            12.0       6.0   ...     \n",
       "39638                  0.825758        5.0             3.0       1.0   ...     \n",
       "39639                  0.684783        9.0             7.0       1.0   ...     \n",
       "39640                  0.885057        9.0             7.0       3.0   ...     \n",
       "39641                  0.644128       24.0             1.0      12.0   ...     \n",
       "39642                  0.692661       10.0             1.0       1.0   ...     \n",
       "39643                  0.846154        1.0             1.0       0.0   ...     \n",
       "\n",
       "       min_positive_polarity  max_positive_polarity  avg_negative_polarity  \\\n",
       "0                   0.100000               0.700000              -0.350000   \n",
       "1                   0.033333               0.700000              -0.118750   \n",
       "2                   0.100000               1.000000              -0.466667   \n",
       "3                   0.136364               0.800000              -0.369697   \n",
       "4                   0.033333               1.000000              -0.220192   \n",
       "5                   0.136364               0.600000              -0.195000   \n",
       "6                   0.100000               1.000000              -0.224479   \n",
       "7                   0.100000               1.000000              -0.242778   \n",
       "8                   0.400000               0.800000              -0.125000   \n",
       "9                   0.100000               0.500000              -0.238095   \n",
       "10                  0.100000               1.000000              -0.415064   \n",
       "11                  0.200000               0.700000              -0.262500   \n",
       "12                  0.200000               0.700000              -0.310417   \n",
       "13                  0.160000               1.000000              -0.337889   \n",
       "14                  0.136364               0.500000              -0.138690   \n",
       "15                  0.050000               0.600000              -0.220150   \n",
       "16                  0.100000               1.000000              -0.401437   \n",
       "17                  0.033333               1.000000              -0.144643   \n",
       "18                  0.033333               0.500000              -0.125000   \n",
       "19                  0.100000               1.000000              -0.226786   \n",
       "20                  0.100000               1.000000              -0.206548   \n",
       "21                  0.050000               0.350000              -0.108333   \n",
       "22                  0.100000               1.000000              -0.230263   \n",
       "23                  0.100000               0.600000               0.000000   \n",
       "24                  0.136364               0.433333              -0.456481   \n",
       "25                  0.250000               0.350000              -0.116667   \n",
       "26                  0.100000               1.000000              -0.263889   \n",
       "27                  0.050000               1.000000              -0.202292   \n",
       "28                  0.136364               0.600000              -0.177500   \n",
       "29                  0.033333               1.000000              -0.213889   \n",
       "...                      ...                    ...                    ...   \n",
       "39614               0.100000               0.600000              -0.225694   \n",
       "39615               0.000000               0.000000               0.000000   \n",
       "39616               0.000000               0.000000               0.000000   \n",
       "39617               0.050000               1.000000              -0.188889   \n",
       "39618               0.100000               0.800000              -0.170833   \n",
       "39619               0.100000               0.700000              -0.271429   \n",
       "39620               0.100000               0.500000              -0.525000   \n",
       "39621               0.100000               0.500000              -0.282500   \n",
       "39622               0.100000               1.000000              -0.262500   \n",
       "39623               0.100000               0.700000              -0.255208   \n",
       "39624               0.166667               0.750000              -0.179847   \n",
       "39625               0.100000               0.500000              -0.071429   \n",
       "39626               0.136364               1.000000              -0.145833   \n",
       "39627               0.100000               0.600000              -0.325000   \n",
       "39628               0.033333               0.800000              -0.558333   \n",
       "39629               0.200000               0.850000              -0.366667   \n",
       "39630               0.062500               0.900000              -0.164881   \n",
       "39631               0.100000               0.850000              -0.375000   \n",
       "39632               0.100000               0.800000              -0.115000   \n",
       "39633               0.050000               0.800000              -0.181313   \n",
       "39634               0.250000               1.000000              -0.558333   \n",
       "39635               0.033333               1.000000              -0.223611   \n",
       "39636               0.100000               1.000000              -0.231612   \n",
       "39637               0.033333               1.000000              -0.429534   \n",
       "39638               0.214286               0.800000              -0.250000   \n",
       "39639               0.100000               0.750000              -0.260000   \n",
       "39640               0.136364               0.700000              -0.211111   \n",
       "39641               0.136364               0.500000              -0.356439   \n",
       "39642               0.062500               0.500000              -0.205246   \n",
       "39643               0.100000               0.500000              -0.200000   \n",
       "\n",
       "       min_negative_polarity  max_negative_polarity  title_subjectivity  \\\n",
       "0                  -0.600000              -0.200000            0.500000   \n",
       "1                  -0.125000              -0.100000            0.000000   \n",
       "2                  -0.800000              -0.133333            0.000000   \n",
       "3                  -0.600000              -0.166667            0.000000   \n",
       "4                  -0.500000              -0.050000            0.454545   \n",
       "5                  -0.400000              -0.100000            0.642857   \n",
       "6                  -0.500000              -0.050000            0.000000   \n",
       "7                  -0.500000              -0.050000            1.000000   \n",
       "8                  -0.125000              -0.125000            0.125000   \n",
       "9                  -0.500000              -0.100000            0.000000   \n",
       "10                 -1.000000              -0.100000            0.000000   \n",
       "11                 -0.400000              -0.125000            0.000000   \n",
       "12                 -0.600000              -0.050000            1.000000   \n",
       "13                 -0.700000              -0.100000            1.000000   \n",
       "14                 -0.187500              -0.050000            0.750000   \n",
       "15                 -0.600000              -0.050000            0.750000   \n",
       "16                 -1.000000              -0.050000            0.566667   \n",
       "17                 -0.200000              -0.100000            0.000000   \n",
       "18                 -0.125000              -0.125000            0.857143   \n",
       "19                 -0.500000              -0.050000            0.500000   \n",
       "20                 -0.500000              -0.050000            0.000000   \n",
       "21                 -0.166667              -0.050000            0.000000   \n",
       "22                 -0.500000              -0.050000            0.000000   \n",
       "23                  0.000000               0.000000            0.450000   \n",
       "24                 -1.000000              -0.125000            0.700000   \n",
       "25                 -0.200000              -0.050000            0.900000   \n",
       "26                 -0.500000              -0.125000            0.000000   \n",
       "27                 -0.500000              -0.050000            0.500000   \n",
       "28                 -0.312500              -0.125000            0.000000   \n",
       "29                 -0.600000              -0.100000            0.500000   \n",
       "...                      ...                    ...                 ...   \n",
       "39614              -0.500000              -0.050000            0.000000   \n",
       "39615               0.000000               0.000000            0.454545   \n",
       "39616               0.000000               0.000000            0.454545   \n",
       "39617              -0.500000              -0.050000            0.454545   \n",
       "39618              -0.250000              -0.125000            0.125000   \n",
       "39619              -0.700000              -0.100000            0.000000   \n",
       "39620              -0.750000              -0.300000            0.650000   \n",
       "39621              -0.700000              -0.100000            0.000000   \n",
       "39622              -1.000000              -0.100000            0.300000   \n",
       "39623              -0.500000              -0.100000            0.850000   \n",
       "39624              -0.312500              -0.025000            0.000000   \n",
       "39625              -0.071429              -0.071429            0.800000   \n",
       "39626              -0.166667              -0.125000            0.000000   \n",
       "39627              -0.600000              -0.125000            0.577273   \n",
       "39628              -1.000000              -0.100000            0.000000   \n",
       "39629              -0.500000              -0.100000            1.000000   \n",
       "39630              -0.333333              -0.050000            0.477273   \n",
       "39631              -1.000000              -0.050000            1.000000   \n",
       "39632              -0.125000              -0.100000            0.500000   \n",
       "39633              -0.300000              -0.050000            0.000000   \n",
       "39634              -1.000000              -0.125000            0.000000   \n",
       "39635              -0.400000              -0.050000            0.100000   \n",
       "39636              -0.600000              -0.050000            0.000000   \n",
       "39637              -1.000000              -0.050000            0.783333   \n",
       "39638              -0.250000              -0.250000            0.000000   \n",
       "39639              -0.500000              -0.125000            0.100000   \n",
       "39640              -0.400000              -0.100000            0.300000   \n",
       "39641              -0.800000              -0.166667            0.454545   \n",
       "39642              -0.500000              -0.012500            0.000000   \n",
       "39643              -0.200000              -0.200000            0.333333   \n",
       "\n",
       "       title_sentiment_polarity  abs_title_subjectivity  \\\n",
       "0                     -0.187500                0.000000   \n",
       "1                      0.000000                0.500000   \n",
       "2                      0.000000                0.500000   \n",
       "3                      0.000000                0.500000   \n",
       "4                      0.136364                0.045455   \n",
       "5                      0.214286                0.142857   \n",
       "6                      0.000000                0.500000   \n",
       "7                      0.500000                0.500000   \n",
       "8                      0.000000                0.375000   \n",
       "9                      0.000000                0.500000   \n",
       "10                     0.000000                0.500000   \n",
       "11                     0.000000                0.500000   \n",
       "12                    -1.000000                0.500000   \n",
       "13                    -1.000000                0.500000   \n",
       "14                     0.550000                0.250000   \n",
       "15                    -0.250000                0.250000   \n",
       "16                    -0.100000                0.066667   \n",
       "17                     0.000000                0.500000   \n",
       "18                    -0.714286                0.357143   \n",
       "19                     0.000000                0.000000   \n",
       "20                     0.000000                0.500000   \n",
       "21                     0.000000                0.500000   \n",
       "22                     0.000000                0.500000   \n",
       "23                     0.400000                0.050000   \n",
       "24                    -0.400000                0.200000   \n",
       "25                     0.400000                0.400000   \n",
       "26                     0.000000                0.500000   \n",
       "27                     0.500000                0.000000   \n",
       "28                     0.000000                0.500000   \n",
       "29                     0.500000                0.000000   \n",
       "...                         ...                     ...   \n",
       "39614                  0.000000                0.500000   \n",
       "39615                  0.136364                0.045455   \n",
       "39616                  0.136364                0.045455   \n",
       "39617                  0.136364                0.045455   \n",
       "39618                 -0.125000                0.375000   \n",
       "39619                  0.000000                0.500000   \n",
       "39620                  0.000000                0.150000   \n",
       "39621                  0.000000                0.500000   \n",
       "39622                  0.166667                0.200000   \n",
       "39623                 -0.400000                0.350000   \n",
       "39624                  0.000000                0.500000   \n",
       "39625                  0.400000                0.300000   \n",
       "39626                  0.000000                0.500000   \n",
       "39627                 -0.131818                0.077273   \n",
       "39628                  0.000000                0.500000   \n",
       "39629                 -0.500000                0.500000   \n",
       "39630                  0.168182                0.022727   \n",
       "39631                 -1.000000                0.500000   \n",
       "39632                  0.500000                0.000000   \n",
       "39633                  0.000000                0.500000   \n",
       "39634                  0.000000                0.500000   \n",
       "39635                  0.000000                0.400000   \n",
       "39636                  0.000000                0.500000   \n",
       "39637                 -0.600000                0.283333   \n",
       "39638                  0.000000                0.500000   \n",
       "39639                  0.000000                0.400000   \n",
       "39640                  1.000000                0.200000   \n",
       "39641                  0.136364                0.045455   \n",
       "39642                  0.000000                0.500000   \n",
       "39643                  0.250000                0.166667   \n",
       "\n",
       "       abs_title_sentiment_polarity  shares  \n",
       "0                          0.187500     593  \n",
       "1                          0.000000     711  \n",
       "2                          0.000000    1500  \n",
       "3                          0.000000    1200  \n",
       "4                          0.136364     505  \n",
       "5                          0.214286     855  \n",
       "6                          0.000000     556  \n",
       "7                          0.500000     891  \n",
       "8                          0.000000    3600  \n",
       "9                          0.000000     710  \n",
       "10                         0.000000    2200  \n",
       "11                         0.000000    1900  \n",
       "12                         1.000000     823  \n",
       "13                         1.000000   10000  \n",
       "14                         0.550000     761  \n",
       "15                         0.250000    1600  \n",
       "16                         0.100000   13600  \n",
       "17                         0.000000    3100  \n",
       "18                         0.714286    5700  \n",
       "19                         0.000000   17100  \n",
       "20                         0.000000    2800  \n",
       "21                         0.000000     598  \n",
       "22                         0.000000     445  \n",
       "23                         0.400000    1500  \n",
       "24                         0.400000     852  \n",
       "25                         0.400000     783  \n",
       "26                         0.000000    1500  \n",
       "27                         0.500000    1800  \n",
       "28                         0.000000     462  \n",
       "29                         0.500000     425  \n",
       "...                             ...     ...  \n",
       "39614                      0.000000    1400  \n",
       "39615                      0.136364    5700  \n",
       "39616                      0.136364    2100  \n",
       "39617                      0.136364     691  \n",
       "39618                      0.125000    1400  \n",
       "39619                      0.000000    1200  \n",
       "39620                      0.000000    2400  \n",
       "39621                      0.000000   24300  \n",
       "39622                      0.166667    2900  \n",
       "39623                      0.400000     947  \n",
       "39624                      0.000000    3200  \n",
       "39625                      0.400000    1400  \n",
       "39626                      0.000000    1100  \n",
       "39627                      0.131818    1200  \n",
       "39628                      0.000000    1000  \n",
       "39629                      0.500000    2400  \n",
       "39630                      0.168182    1500  \n",
       "39631                      1.000000     914  \n",
       "39632                      0.500000    1700  \n",
       "39633                      0.000000    1500  \n",
       "39634                      0.000000    1000  \n",
       "39635                      0.000000    1300  \n",
       "39636                      0.000000    1700  \n",
       "39637                      0.600000    1400  \n",
       "39638                      0.000000    1200  \n",
       "39639                      0.000000    1800  \n",
       "39640                      1.000000    1900  \n",
       "39641                      0.136364    1900  \n",
       "39642                      0.000000    1100  \n",
       "39643                      0.250000    1300  \n",
       "\n",
       "[39644 rows x 61 columns]"
      ]
     },
     "execution_count": 4,
     "metadata": {},
     "output_type": "execute_result"
    }
   ],
   "source": [
    "df"
   ]
  },
  {
   "cell_type": "markdown",
   "metadata": {},
   "source": [
    "### Feature Engineering:\n",
    "Drop URL and timedelta because they are non-predictive attributes.Also, classify popular and non popular articles according to no. of shares. "
   ]
  },
  {
   "cell_type": "code",
   "execution_count": 5,
   "metadata": {
    "collapsed": true
   },
   "outputs": [],
   "source": [
    "df =df.drop(['url','timedelta'],axis =1)"
   ]
  },
  {
   "cell_type": "markdown",
   "metadata": {},
   "source": [
    "### Normalize data:\n",
    "Ref: http://hamelg.blogspot.com/2015/11/python-for-data-analysis-part-16.html"
   ]
  },
  {
   "cell_type": "code",
   "execution_count": 6,
   "metadata": {
    "collapsed": true
   },
   "outputs": [],
   "source": [
    "colmeans = df.sum()/df.shape[0]  # Get column means"
   ]
  },
  {
   "cell_type": "code",
   "execution_count": 7,
   "metadata": {
    "collapsed": true
   },
   "outputs": [],
   "source": [
    "centered = df-colmeans"
   ]
  },
  {
   "cell_type": "code",
   "execution_count": 8,
   "metadata": {
    "collapsed": true
   },
   "outputs": [],
   "source": [
    "column_deviations = df.std(axis=0)   # Get column standard deviations\n",
    "centered_and_scaled = centered/column_deviations"
   ]
  },
  {
   "cell_type": "code",
   "execution_count": 9,
   "metadata": {
    "collapsed": true
   },
   "outputs": [],
   "source": [
    "from sklearn import preprocessing\n",
    "scaled_data = preprocessing.scale(df)  # Scale the data\n",
    "scaled_data = pd.DataFrame(scaled_data,    # Remake the DataFrame\n",
    "                           index=df.index,\n",
    "                           columns=df.columns)"
   ]
  },
  {
   "cell_type": "code",
   "execution_count": 10,
   "metadata": {
    "collapsed": true
   },
   "outputs": [],
   "source": [
    "scaled_data['shares'] = np.cbrt(scaled_data['shares'])\n",
    "scaled_data['kw_max_min'] = np.cbrt(scaled_data['kw_max_min'])\n",
    "scaled_data['n_unique_tokens'] = np.cbrt(scaled_data['n_unique_tokens'])\n",
    "scaled_data['self_reference_min_shares'] = np.cbrt(scaled_data['self_reference_min_shares'])"
   ]
  },
  {
   "cell_type": "code",
   "execution_count": 11,
   "metadata": {},
   "outputs": [
    {
     "data": {
      "text/html": [
       "<div>\n",
       "<style>\n",
       "    .dataframe thead tr:only-child th {\n",
       "        text-align: right;\n",
       "    }\n",
       "\n",
       "    .dataframe thead th {\n",
       "        text-align: left;\n",
       "    }\n",
       "\n",
       "    .dataframe tbody tr th {\n",
       "        vertical-align: top;\n",
       "    }\n",
       "</style>\n",
       "<table border=\"1\" class=\"dataframe\">\n",
       "  <thead>\n",
       "    <tr style=\"text-align: right;\">\n",
       "      <th></th>\n",
       "      <th>n_tokens_title</th>\n",
       "      <th>n_tokens_content</th>\n",
       "      <th>n_unique_tokens</th>\n",
       "      <th>n_non_stop_words</th>\n",
       "      <th>n_non_stop_unique_tokens</th>\n",
       "      <th>num_hrefs</th>\n",
       "      <th>num_self_hrefs</th>\n",
       "      <th>num_imgs</th>\n",
       "      <th>num_videos</th>\n",
       "      <th>average_token_length</th>\n",
       "      <th>...</th>\n",
       "      <th>min_positive_polarity</th>\n",
       "      <th>max_positive_polarity</th>\n",
       "      <th>avg_negative_polarity</th>\n",
       "      <th>min_negative_polarity</th>\n",
       "      <th>max_negative_polarity</th>\n",
       "      <th>title_subjectivity</th>\n",
       "      <th>title_sentiment_polarity</th>\n",
       "      <th>abs_title_subjectivity</th>\n",
       "      <th>abs_title_sentiment_polarity</th>\n",
       "      <th>shares</th>\n",
       "    </tr>\n",
       "  </thead>\n",
       "  <tbody>\n",
       "    <tr>\n",
       "      <th>0</th>\n",
       "      <td>0.757447</td>\n",
       "      <td>-0.695210</td>\n",
       "      <td>0.320013</td>\n",
       "      <td>0.000675</td>\n",
       "      <td>0.038658</td>\n",
       "      <td>-0.607463</td>\n",
       "      <td>-0.335566</td>\n",
       "      <td>-0.426526</td>\n",
       "      <td>-0.304268</td>\n",
       "      <td>0.156474</td>\n",
       "      <td>...</td>\n",
       "      <td>0.063865</td>\n",
       "      <td>-0.228941</td>\n",
       "      <td>-0.708369</td>\n",
       "      <td>-0.268895</td>\n",
       "      <td>-0.969886</td>\n",
       "      <td>0.671245</td>\n",
       "      <td>-0.975432</td>\n",
       "      <td>-1.810719</td>\n",
       "      <td>0.138920</td>\n",
       "      <td>-0.622332</td>\n",
       "    </tr>\n",
       "    <tr>\n",
       "      <th>1</th>\n",
       "      <td>-0.661657</td>\n",
       "      <td>-0.618794</td>\n",
       "      <td>0.252277</td>\n",
       "      <td>0.000675</td>\n",
       "      <td>0.031479</td>\n",
       "      <td>-0.695709</td>\n",
       "      <td>-0.594963</td>\n",
       "      <td>-0.426526</td>\n",
       "      <td>-0.304268</td>\n",
       "      <td>0.432838</td>\n",
       "      <td>...</td>\n",
       "      <td>-0.870968</td>\n",
       "      <td>-0.228941</td>\n",
       "      <td>1.102174</td>\n",
       "      <td>1.367424</td>\n",
       "      <td>0.078642</td>\n",
       "      <td>-0.870807</td>\n",
       "      <td>-0.269076</td>\n",
       "      <td>0.837749</td>\n",
       "      <td>-0.689658</td>\n",
       "      <td>-0.613472</td>\n",
       "    </tr>\n",
       "    <tr>\n",
       "      <th>2</th>\n",
       "      <td>-0.661657</td>\n",
       "      <td>-0.712192</td>\n",
       "      <td>0.196993</td>\n",
       "      <td>0.000675</td>\n",
       "      <td>-0.007752</td>\n",
       "      <td>-0.695709</td>\n",
       "      <td>-0.594963</td>\n",
       "      <td>-0.426526</td>\n",
       "      <td>-0.304268</td>\n",
       "      <td>-0.183415</td>\n",
       "      <td>...</td>\n",
       "      <td>0.063865</td>\n",
       "      <td>0.981798</td>\n",
       "      <td>-1.621797</td>\n",
       "      <td>-0.957871</td>\n",
       "      <td>-0.270867</td>\n",
       "      <td>-0.870807</td>\n",
       "      <td>-0.269076</td>\n",
       "      <td>0.837749</td>\n",
       "      <td>-0.689658</td>\n",
       "      <td>-0.546276</td>\n",
       "    </tr>\n",
       "    <tr>\n",
       "      <th>3</th>\n",
       "      <td>-0.661657</td>\n",
       "      <td>-0.032933</td>\n",
       "      <td>-0.232815</td>\n",
       "      <td>0.000675</td>\n",
       "      <td>-0.007211</td>\n",
       "      <td>-0.166229</td>\n",
       "      <td>-0.854360</td>\n",
       "      <td>-0.426526</td>\n",
       "      <td>-0.304268</td>\n",
       "      <td>-0.169758</td>\n",
       "      <td>...</td>\n",
       "      <td>0.573773</td>\n",
       "      <td>0.174639</td>\n",
       "      <td>-0.862584</td>\n",
       "      <td>-0.268895</td>\n",
       "      <td>-0.620377</td>\n",
       "      <td>-0.870807</td>\n",
       "      <td>-0.269076</td>\n",
       "      <td>0.837749</td>\n",
       "      <td>-0.689658</td>\n",
       "      <td>-0.573698</td>\n",
       "    </tr>\n",
       "    <tr>\n",
       "      <th>4</th>\n",
       "      <td>1.230482</td>\n",
       "      <td>1.115439</td>\n",
       "      <td>-0.335177</td>\n",
       "      <td>0.000675</td>\n",
       "      <td>-0.045420</td>\n",
       "      <td>0.716237</td>\n",
       "      <td>4.074185</td>\n",
       "      <td>1.860061</td>\n",
       "      <td>-0.304268</td>\n",
       "      <td>0.159400</td>\n",
       "      <td>...</td>\n",
       "      <td>-0.870968</td>\n",
       "      <td>0.981798</td>\n",
       "      <td>0.307944</td>\n",
       "      <td>0.075594</td>\n",
       "      <td>0.602906</td>\n",
       "      <td>0.531059</td>\n",
       "      <td>0.244637</td>\n",
       "      <td>-1.569949</td>\n",
       "      <td>-0.087056</td>\n",
       "      <td>-0.628779</td>\n",
       "    </tr>\n",
       "  </tbody>\n",
       "</table>\n",
       "<p>5 rows × 59 columns</p>\n",
       "</div>"
      ],
      "text/plain": [
       "   n_tokens_title  n_tokens_content  n_unique_tokens  n_non_stop_words  \\\n",
       "0        0.757447         -0.695210         0.320013          0.000675   \n",
       "1       -0.661657         -0.618794         0.252277          0.000675   \n",
       "2       -0.661657         -0.712192         0.196993          0.000675   \n",
       "3       -0.661657         -0.032933        -0.232815          0.000675   \n",
       "4        1.230482          1.115439        -0.335177          0.000675   \n",
       "\n",
       "   n_non_stop_unique_tokens  num_hrefs  num_self_hrefs  num_imgs  num_videos  \\\n",
       "0                  0.038658  -0.607463       -0.335566 -0.426526   -0.304268   \n",
       "1                  0.031479  -0.695709       -0.594963 -0.426526   -0.304268   \n",
       "2                 -0.007752  -0.695709       -0.594963 -0.426526   -0.304268   \n",
       "3                 -0.007211  -0.166229       -0.854360 -0.426526   -0.304268   \n",
       "4                 -0.045420   0.716237        4.074185  1.860061   -0.304268   \n",
       "\n",
       "   average_token_length    ...     min_positive_polarity  \\\n",
       "0              0.156474    ...                  0.063865   \n",
       "1              0.432838    ...                 -0.870968   \n",
       "2             -0.183415    ...                  0.063865   \n",
       "3             -0.169758    ...                  0.573773   \n",
       "4              0.159400    ...                 -0.870968   \n",
       "\n",
       "   max_positive_polarity  avg_negative_polarity  min_negative_polarity  \\\n",
       "0              -0.228941              -0.708369              -0.268895   \n",
       "1              -0.228941               1.102174               1.367424   \n",
       "2               0.981798              -1.621797              -0.957871   \n",
       "3               0.174639              -0.862584              -0.268895   \n",
       "4               0.981798               0.307944               0.075594   \n",
       "\n",
       "   max_negative_polarity  title_subjectivity  title_sentiment_polarity  \\\n",
       "0              -0.969886            0.671245                 -0.975432   \n",
       "1               0.078642           -0.870807                 -0.269076   \n",
       "2              -0.270867           -0.870807                 -0.269076   \n",
       "3              -0.620377           -0.870807                 -0.269076   \n",
       "4               0.602906            0.531059                  0.244637   \n",
       "\n",
       "   abs_title_subjectivity  abs_title_sentiment_polarity    shares  \n",
       "0               -1.810719                      0.138920 -0.622332  \n",
       "1                0.837749                     -0.689658 -0.613472  \n",
       "2                0.837749                     -0.689658 -0.546276  \n",
       "3                0.837749                     -0.689658 -0.573698  \n",
       "4               -1.569949                     -0.087056 -0.628779  \n",
       "\n",
       "[5 rows x 59 columns]"
      ]
     },
     "execution_count": 11,
     "metadata": {},
     "output_type": "execute_result"
    }
   ],
   "source": [
    "scaled_data.head(5)"
   ]
  },
  {
   "cell_type": "markdown",
   "metadata": {},
   "source": [
    "### Features list(all):"
   ]
  },
  {
   "cell_type": "code",
   "execution_count": 12,
   "metadata": {},
   "outputs": [
    {
     "name": "stdout",
     "output_type": "stream",
     "text": [
      "['kw_avg_avg', 'data_channel_is_entertainment', 'is_weekend', 'data_channel_is_tech', 'self_reference_min_shares', 'self_reference_avg_sharess', 'data_channel_is_socmed', 'kw_max_avg', 'LDA_02', 'n_unique_tokens', 'kw_max_max', 'n_tokens_content', 'n_non_stop_unique_tokens', 'LDA_00', 'kw_avg_max', 'kw_avg_min', 'LDA_01', 'LDA_04', 'kw_min_min', 'kw_min_avg', 'global_subjectivity', 'LDA_03', 'kw_max_min', 'self_reference_max_shares', 'min_positive_polarity', 'average_token_length', 'kw_min_max', 'global_rate_positive_words', 'avg_positive_polarity', 'global_sentiment_polarity', 'num_hrefs', 'data_channel_is_world', 'avg_negative_polarity', 'rate_negative_words', 'rate_positive_words', 'num_self_hrefs', 'title_sentiment_polarity', 'abs_title_subjectivity', 'n_tokens_title', 'title_subjectivity', 'num_keywords', 'num_videos', 'abs_title_sentiment_polarity', 'min_negative_polarity', 'data_channel_is_bus', 'max_negative_polarity', 'max_positive_polarity']\n"
     ]
    }
   ],
   "source": [
    "features= ['kw_avg_avg','data_channel_is_entertainment', 'is_weekend','data_channel_is_tech', 'self_reference_min_shares', \n",
    "           'self_reference_avg_sharess','data_channel_is_socmed','kw_max_avg', 'LDA_02', 'n_unique_tokens','kw_max_max',\n",
    "           'n_tokens_content', 'n_non_stop_unique_tokens','LDA_00', 'kw_avg_max','kw_avg_min','LDA_01','LDA_04',\n",
    "           'kw_min_min','kw_min_avg','global_subjectivity','LDA_03','kw_max_min','self_reference_max_shares',\n",
    "           'min_positive_polarity','average_token_length','kw_min_max','global_rate_positive_words','avg_positive_polarity',\n",
    "           'global_sentiment_polarity', 'num_hrefs','data_channel_is_world','avg_negative_polarity','rate_negative_words',\n",
    "           'rate_positive_words','num_self_hrefs','title_sentiment_polarity','abs_title_subjectivity', 'n_tokens_title',\n",
    "           'title_subjectivity','num_keywords','num_videos','abs_title_sentiment_polarity','min_negative_polarity',\n",
    "          'data_channel_is_bus','max_negative_polarity','max_positive_polarity']\n",
    "print(features)"
   ]
  },
  {
   "cell_type": "markdown",
   "metadata": {},
   "source": [
    "### Split into test and train dataset with Cross Validation technique:"
   ]
  },
  {
   "cell_type": "code",
   "execution_count": 13,
   "metadata": {
    "collapsed": true
   },
   "outputs": [],
   "source": [
    "X_train, X_test, y_train, y_test = cross_validation.train_test_split(scaled_data[features], scaled_data['shares'], \n",
    "                                                                     train_size = 0.70,test_size=0.30, random_state=0)"
   ]
  },
  {
   "cell_type": "markdown",
   "metadata": {},
   "source": [
    "### Error metric table for all Regression models:"
   ]
  },
  {
   "cell_type": "code",
   "execution_count": 25,
   "metadata": {
    "collapsed": true
   },
   "outputs": [],
   "source": [
    "rmse_dict = {}    \n",
    "def rmse(correct,estimated):\n",
    "    rmse_val = np.sqrt(mean_squared_error(correct,estimated)) \n",
    "    return rmse_val\n",
    "\n",
    "def calc_error_metric(name,modelname, model, X_train, y_train, X_test, y_test):\n",
    "    \n",
    "    y_train_predicted = model.predict(X_train)\n",
    "    y_test_predicted = model.predict(X_test)\n",
    "        \n",
    "    #MAE, RMS, MAPE, R2\n",
    "    \n",
    "    r2_train = r2_score(y_train, y_train_predicted)\n",
    "    r2_test = r2_score(y_test, y_test_predicted)\n",
    "    \n",
    "    rms_train = rmse(y_train, y_train_predicted)\n",
    "    rms_test = rmse(y_test, y_test_predicted)\n",
    "        \n",
    "    mae_train = mean_absolute_error(y_train, y_train_predicted)\n",
    "    mae_test = mean_absolute_error(y_test, y_test_predicted)\n",
    "        \n",
    "    mape_train = np.mean(np.abs((y_train - y_train_predicted) / y_train)) * 100\n",
    "    mape_test = np.mean(np.abs((y_test - y_test_predicted) / y_test)) * 100\n",
    "    \n",
    "    rmse_dict[modelname] = rms_test\n",
    "        \n",
    "    df_local = pd.DataFrame({'Model':[name],\n",
    "                            'ModelType':[modelname],\n",
    "                            'r2_train': [r2_train],\n",
    "                            'r2_test': [r2_test],\n",
    "                            'rms_train':[rms_train], \n",
    "                            'rms_test': [rms_test],\n",
    "                            'mae_train': [mae_train],\n",
    "                            'mae_test': [mae_test],\n",
    "                            'mape_train':[mape_train],\n",
    "                            'mape_test':[mape_test]})\n",
    "\n",
    "    error_metric = pd.concat([df_local])\n",
    "    return error_metric"
   ]
  },
  {
   "cell_type": "markdown",
   "metadata": {},
   "source": [
    "### Prediction models:"
   ]
  },
  {
   "cell_type": "code",
   "execution_count": 26,
   "metadata": {
    "collapsed": true
   },
   "outputs": [],
   "source": [
    "error_metric = pd.DataFrame({'Model':[],\n",
    "                            'ModelType':[],\n",
    "                            'r2_train': [],\n",
    "                            'r2_test': [],\n",
    "                            'rms_train':[], \n",
    "                            'rms_test': [],\n",
    "                            'mae_train': [],\n",
    "                            'mae_test': [],\n",
    "                            'mape_train':[],\n",
    "                            'mape_test':[]})\n",
    "\n",
    "\n",
    "def models(name,X_train, y_train, X_test, y_test):\n",
    "    global error_metric\n",
    "    n = name\n",
    "\n",
    "    # Linear Regressor\n",
    "    clf = LinearRegression()\n",
    "    lm =clf.fit(X_train, y_train)\n",
    "    linear = calc_error_metric('Linear Regression',lm, clf, X_train, y_train, X_test, y_test)\n",
    "    print('Linear Regression completed')\n",
    "\n",
    "    # Random Forest Regressor\n",
    "    rf = RandomForestRegressor(n_estimators=100, max_depth=7)\n",
    "    rfmodel = rf.fit(X_train, y_train)\n",
    "    randomforest = calc_error_metric('RandomForest', rfmodel, rf, X_train, y_train, X_test, y_test)\n",
    "    print('RandomForest completed')\n",
    "\n",
    "    #Lasso Regressor (Linear with L1 regularization)\n",
    "    from sklearn import linear_model\n",
    "    clf = linear_model.Lasso(alpha=0.1)\n",
    "    lasso_clf = clf.fit(X_train,y_train)\n",
    "    Lasso = calc_error_metric('Lasso',lasso_clf, clf, X_train, y_train, X_test, y_test)\n",
    "    print('Lasso Regression Completed')\n",
    "\n",
    "    #### Calculate best model\n",
    "    best_model =  min(rmse_dict.items(),key=operator.itemgetter(1))[0]\n",
    "    print('Best Model is ', best_model)\n",
    "    \n",
    "    error_metric = pd.concat([error_metric,linear,randomforest,Lasso])\n",
    "    \n",
    "    #### Write the error\n",
    "    error_metric.to_csv('error_metrics.csv')\n",
    "    \n",
    "    return error_metric"
   ]
  },
  {
   "cell_type": "markdown",
   "metadata": {},
   "source": [
    "### Models prediction(no feature selection):"
   ]
  },
  {
   "cell_type": "code",
   "execution_count": 43,
   "metadata": {},
   "outputs": [
    {
     "name": "stdout",
     "output_type": "stream",
     "text": [
      "Linear Regression completed\n",
      "RandomForest completed\n",
      "Lasso Regression Completed\n",
      "Best Model is  RandomForestRegressor(bootstrap=True, criterion='mse', max_depth=7,\n",
      "           max_features='auto', max_leaf_nodes=None,\n",
      "           min_impurity_decrease=0.0, min_impurity_split=None,\n",
      "           min_samples_leaf=1, min_samples_split=2,\n",
      "           min_weight_fraction_leaf=0.0, n_estimators=100, n_jobs=1,\n",
      "           oob_score=False, random_state=None, verbose=0, warm_start=False)\n"
     ]
    }
   ],
   "source": [
    "teston = models('No feature selection',X_train, y_train, X_test, y_test)"
   ]
  },
  {
   "cell_type": "markdown",
   "metadata": {},
   "source": [
    "### Error metrics (no feature selection):"
   ]
  },
  {
   "cell_type": "code",
   "execution_count": 44,
   "metadata": {},
   "outputs": [
    {
     "data": {
      "text/html": [
       "<div>\n",
       "<style>\n",
       "    .dataframe thead tr:only-child th {\n",
       "        text-align: right;\n",
       "    }\n",
       "\n",
       "    .dataframe thead th {\n",
       "        text-align: left;\n",
       "    }\n",
       "\n",
       "    .dataframe tbody tr th {\n",
       "        vertical-align: top;\n",
       "    }\n",
       "</style>\n",
       "<table border=\"1\" class=\"dataframe\">\n",
       "  <thead>\n",
       "    <tr style=\"text-align: right;\">\n",
       "      <th></th>\n",
       "      <th>Model</th>\n",
       "      <th>ModelType</th>\n",
       "      <th>mae_test</th>\n",
       "      <th>mae_train</th>\n",
       "      <th>mape_test</th>\n",
       "      <th>mape_train</th>\n",
       "      <th>r2_test</th>\n",
       "      <th>r2_train</th>\n",
       "      <th>rms_test</th>\n",
       "      <th>rms_train</th>\n",
       "    </tr>\n",
       "  </thead>\n",
       "  <tbody>\n",
       "    <tr>\n",
       "      <th>0</th>\n",
       "      <td>Linear Regression</td>\n",
       "      <td>LinearRegression(copy_X=True, fit_intercept=Tr...</td>\n",
       "      <td>259770.376254</td>\n",
       "      <td>0.365647</td>\n",
       "      <td>4.333404e+07</td>\n",
       "      <td>64.777803</td>\n",
       "      <td>-2.954859e+15</td>\n",
       "      <td>0.102609</td>\n",
       "      <td>2.833042e+07</td>\n",
       "      <td>0.500354</td>\n",
       "    </tr>\n",
       "    <tr>\n",
       "      <th>0</th>\n",
       "      <td>RandomForest</td>\n",
       "      <td>(DecisionTreeRegressor(criterion='mse', max_de...</td>\n",
       "      <td>0.365470</td>\n",
       "      <td>0.350450</td>\n",
       "      <td>6.431252e+01</td>\n",
       "      <td>62.180414</td>\n",
       "      <td>8.982102e-02</td>\n",
       "      <td>0.187632</td>\n",
       "      <td>4.972194e-01</td>\n",
       "      <td>0.476061</td>\n",
       "    </tr>\n",
       "    <tr>\n",
       "      <th>0</th>\n",
       "      <td>Lasso</td>\n",
       "      <td>Lasso(alpha=0.1, copy_X=True, fit_intercept=Tr...</td>\n",
       "      <td>0.396290</td>\n",
       "      <td>0.398947</td>\n",
       "      <td>6.881870e+01</td>\n",
       "      <td>69.468138</td>\n",
       "      <td>9.009953e-03</td>\n",
       "      <td>0.009783</td>\n",
       "      <td>5.188231e-01</td>\n",
       "      <td>0.525595</td>\n",
       "    </tr>\n",
       "  </tbody>\n",
       "</table>\n",
       "</div>"
      ],
      "text/plain": [
       "               Model                                          ModelType  \\\n",
       "0  Linear Regression  LinearRegression(copy_X=True, fit_intercept=Tr...   \n",
       "0       RandomForest  (DecisionTreeRegressor(criterion='mse', max_de...   \n",
       "0              Lasso  Lasso(alpha=0.1, copy_X=True, fit_intercept=Tr...   \n",
       "\n",
       "        mae_test  mae_train     mape_test  mape_train       r2_test  r2_train  \\\n",
       "0  259770.376254   0.365647  4.333404e+07   64.777803 -2.954859e+15  0.102609   \n",
       "0       0.365470   0.350450  6.431252e+01   62.180414  8.982102e-02  0.187632   \n",
       "0       0.396290   0.398947  6.881870e+01   69.468138  9.009953e-03  0.009783   \n",
       "\n",
       "       rms_test  rms_train  \n",
       "0  2.833042e+07   0.500354  \n",
       "0  4.972194e-01   0.476061  \n",
       "0  5.188231e-01   0.525595  "
      ]
     },
     "execution_count": 44,
     "metadata": {},
     "output_type": "execute_result"
    }
   ],
   "source": [
    "error_metric"
   ]
  },
  {
   "cell_type": "code",
   "execution_count": 45,
   "metadata": {},
   "outputs": [
    {
     "data": {
      "text/html": [
       "<div>\n",
       "<style>\n",
       "    .dataframe thead tr:only-child th {\n",
       "        text-align: right;\n",
       "    }\n",
       "\n",
       "    .dataframe thead th {\n",
       "        text-align: left;\n",
       "    }\n",
       "\n",
       "    .dataframe tbody tr th {\n",
       "        vertical-align: top;\n",
       "    }\n",
       "</style>\n",
       "<table border=\"1\" class=\"dataframe\">\n",
       "  <thead>\n",
       "    <tr style=\"text-align: right;\">\n",
       "      <th></th>\n",
       "      <th>Unnamed: 0</th>\n",
       "      <th>Model</th>\n",
       "      <th>ModelType</th>\n",
       "      <th>mae_test</th>\n",
       "      <th>mae_train</th>\n",
       "      <th>mape_test</th>\n",
       "      <th>mape_train</th>\n",
       "      <th>r2_test</th>\n",
       "      <th>r2_train</th>\n",
       "      <th>rms_test</th>\n",
       "      <th>rms_train</th>\n",
       "    </tr>\n",
       "  </thead>\n",
       "  <tbody>\n",
       "    <tr>\n",
       "      <th>0</th>\n",
       "      <td>0</td>\n",
       "      <td>Linear Regression</td>\n",
       "      <td>LinearRegression(copy_X=True, fit_intercept=Tr...</td>\n",
       "      <td>259770.376254</td>\n",
       "      <td>0.365647</td>\n",
       "      <td>4.333404e+07</td>\n",
       "      <td>64.777803</td>\n",
       "      <td>-2.954859e+15</td>\n",
       "      <td>0.102609</td>\n",
       "      <td>2.833042e+07</td>\n",
       "      <td>0.500354</td>\n",
       "    </tr>\n",
       "    <tr>\n",
       "      <th>1</th>\n",
       "      <td>0</td>\n",
       "      <td>RandomForest</td>\n",
       "      <td>RandomForestRegressor(bootstrap=True, criterio...</td>\n",
       "      <td>0.365470</td>\n",
       "      <td>0.350450</td>\n",
       "      <td>6.431252e+01</td>\n",
       "      <td>62.180414</td>\n",
       "      <td>8.982102e-02</td>\n",
       "      <td>0.187632</td>\n",
       "      <td>4.972194e-01</td>\n",
       "      <td>0.476061</td>\n",
       "    </tr>\n",
       "    <tr>\n",
       "      <th>2</th>\n",
       "      <td>0</td>\n",
       "      <td>Lasso</td>\n",
       "      <td>Lasso(alpha=0.1, copy_X=True, fit_intercept=Tr...</td>\n",
       "      <td>0.396290</td>\n",
       "      <td>0.398947</td>\n",
       "      <td>6.881870e+01</td>\n",
       "      <td>69.468138</td>\n",
       "      <td>9.009953e-03</td>\n",
       "      <td>0.009783</td>\n",
       "      <td>5.188231e-01</td>\n",
       "      <td>0.525595</td>\n",
       "    </tr>\n",
       "  </tbody>\n",
       "</table>\n",
       "</div>"
      ],
      "text/plain": [
       "   Unnamed: 0              Model  \\\n",
       "0           0  Linear Regression   \n",
       "1           0       RandomForest   \n",
       "2           0              Lasso   \n",
       "\n",
       "                                           ModelType       mae_test  \\\n",
       "0  LinearRegression(copy_X=True, fit_intercept=Tr...  259770.376254   \n",
       "1  RandomForestRegressor(bootstrap=True, criterio...       0.365470   \n",
       "2  Lasso(alpha=0.1, copy_X=True, fit_intercept=Tr...       0.396290   \n",
       "\n",
       "   mae_train     mape_test  mape_train       r2_test  r2_train      rms_test  \\\n",
       "0   0.365647  4.333404e+07   64.777803 -2.954859e+15  0.102609  2.833042e+07   \n",
       "1   0.350450  6.431252e+01   62.180414  8.982102e-02  0.187632  4.972194e-01   \n",
       "2   0.398947  6.881870e+01   69.468138  9.009953e-03  0.009783  5.188231e-01   \n",
       "\n",
       "   rms_train  \n",
       "0   0.500354  \n",
       "1   0.476061  \n",
       "2   0.525595  "
      ]
     },
     "execution_count": 45,
     "metadata": {},
     "output_type": "execute_result"
    }
   ],
   "source": [
    "pd.read_csv('error_metrics.csv')"
   ]
  },
  {
   "cell_type": "markdown",
   "metadata": {},
   "source": [
    "### Feature Selection using Boruta Package:"
   ]
  },
  {
   "cell_type": "code",
   "execution_count": 53,
   "metadata": {
    "collapsed": true
   },
   "outputs": [],
   "source": [
    "X_boruta = scaled_data.drop(['shares'],axis=1)\n",
    "X_boruta = X_boruta.values"
   ]
  },
  {
   "cell_type": "code",
   "execution_count": 58,
   "metadata": {},
   "outputs": [],
   "source": [
    "y_boruta = scaled_data\n",
    "y_boruta = y_boruta['shares']"
   ]
  },
  {
   "cell_type": "code",
   "execution_count": 59,
   "metadata": {},
   "outputs": [
    {
     "name": "stdout",
     "output_type": "stream",
     "text": [
      "Iteration: \t1 / 100\n",
      "Confirmed: \t0\n",
      "Tentative: \t58\n",
      "Rejected: \t0\n",
      "Iteration: \t2 / 100\n",
      "Confirmed: \t0\n",
      "Tentative: \t58\n",
      "Rejected: \t0\n",
      "Iteration: \t3 / 100\n",
      "Confirmed: \t0\n",
      "Tentative: \t58\n",
      "Rejected: \t0\n",
      "Iteration: \t4 / 100\n",
      "Confirmed: \t0\n",
      "Tentative: \t58\n",
      "Rejected: \t0\n",
      "Iteration: \t5 / 100\n",
      "Confirmed: \t0\n",
      "Tentative: \t58\n",
      "Rejected: \t0\n",
      "Iteration: \t6 / 100\n",
      "Confirmed: \t0\n",
      "Tentative: \t58\n",
      "Rejected: \t0\n",
      "Iteration: \t7 / 100\n",
      "Confirmed: \t0\n",
      "Tentative: \t58\n",
      "Rejected: \t0\n",
      "Iteration: \t8 / 100\n",
      "Confirmed: \t5\n",
      "Tentative: \t21\n",
      "Rejected: \t32\n"
     ]
    },
    {
     "name": "stderr",
     "output_type": "stream",
     "text": [
      "C:\\Users\\user\\Anaconda3\\lib\\site-packages\\boruta\\boruta_py.py:418: RuntimeWarning: invalid value encountered in greater\n",
      "  hits = np.where(cur_imp[0] > imp_sha_max)[0]\n"
     ]
    },
    {
     "name": "stdout",
     "output_type": "stream",
     "text": [
      "Iteration: \t9 / 100\n",
      "Confirmed: \t5\n",
      "Tentative: \t21\n",
      "Rejected: \t32\n"
     ]
    },
    {
     "name": "stderr",
     "output_type": "stream",
     "text": [
      "C:\\Users\\user\\Anaconda3\\lib\\site-packages\\boruta\\boruta_py.py:418: RuntimeWarning: invalid value encountered in greater\n",
      "  hits = np.where(cur_imp[0] > imp_sha_max)[0]\n"
     ]
    },
    {
     "name": "stdout",
     "output_type": "stream",
     "text": [
      "Iteration: \t10 / 100\n",
      "Confirmed: \t5\n",
      "Tentative: \t21\n",
      "Rejected: \t32\n"
     ]
    },
    {
     "name": "stderr",
     "output_type": "stream",
     "text": [
      "C:\\Users\\user\\Anaconda3\\lib\\site-packages\\boruta\\boruta_py.py:418: RuntimeWarning: invalid value encountered in greater\n",
      "  hits = np.where(cur_imp[0] > imp_sha_max)[0]\n"
     ]
    },
    {
     "name": "stdout",
     "output_type": "stream",
     "text": [
      "Iteration: \t11 / 100\n",
      "Confirmed: \t5\n",
      "Tentative: \t21\n",
      "Rejected: \t32\n"
     ]
    },
    {
     "name": "stderr",
     "output_type": "stream",
     "text": [
      "C:\\Users\\user\\Anaconda3\\lib\\site-packages\\boruta\\boruta_py.py:418: RuntimeWarning: invalid value encountered in greater\n",
      "  hits = np.where(cur_imp[0] > imp_sha_max)[0]\n"
     ]
    },
    {
     "name": "stdout",
     "output_type": "stream",
     "text": [
      "Iteration: \t12 / 100\n",
      "Confirmed: \t11\n",
      "Tentative: \t13\n",
      "Rejected: \t34\n"
     ]
    },
    {
     "name": "stderr",
     "output_type": "stream",
     "text": [
      "C:\\Users\\user\\Anaconda3\\lib\\site-packages\\boruta\\boruta_py.py:418: RuntimeWarning: invalid value encountered in greater\n",
      "  hits = np.where(cur_imp[0] > imp_sha_max)[0]\n"
     ]
    },
    {
     "name": "stdout",
     "output_type": "stream",
     "text": [
      "Iteration: \t13 / 100\n",
      "Confirmed: \t11\n",
      "Tentative: \t13\n",
      "Rejected: \t34\n"
     ]
    },
    {
     "name": "stderr",
     "output_type": "stream",
     "text": [
      "C:\\Users\\user\\Anaconda3\\lib\\site-packages\\boruta\\boruta_py.py:418: RuntimeWarning: invalid value encountered in greater\n",
      "  hits = np.where(cur_imp[0] > imp_sha_max)[0]\n"
     ]
    },
    {
     "name": "stdout",
     "output_type": "stream",
     "text": [
      "Iteration: \t14 / 100\n",
      "Confirmed: \t11\n",
      "Tentative: \t13\n",
      "Rejected: \t34\n"
     ]
    },
    {
     "name": "stderr",
     "output_type": "stream",
     "text": [
      "C:\\Users\\user\\Anaconda3\\lib\\site-packages\\boruta\\boruta_py.py:418: RuntimeWarning: invalid value encountered in greater\n",
      "  hits = np.where(cur_imp[0] > imp_sha_max)[0]\n"
     ]
    },
    {
     "name": "stdout",
     "output_type": "stream",
     "text": [
      "Iteration: \t15 / 100\n",
      "Confirmed: \t11\n",
      "Tentative: \t13\n",
      "Rejected: \t34\n"
     ]
    },
    {
     "name": "stderr",
     "output_type": "stream",
     "text": [
      "C:\\Users\\user\\Anaconda3\\lib\\site-packages\\boruta\\boruta_py.py:418: RuntimeWarning: invalid value encountered in greater\n",
      "  hits = np.where(cur_imp[0] > imp_sha_max)[0]\n"
     ]
    },
    {
     "name": "stdout",
     "output_type": "stream",
     "text": [
      "Iteration: \t16 / 100\n",
      "Confirmed: \t14\n",
      "Tentative: \t10\n",
      "Rejected: \t34\n"
     ]
    },
    {
     "name": "stderr",
     "output_type": "stream",
     "text": [
      "C:\\Users\\user\\Anaconda3\\lib\\site-packages\\boruta\\boruta_py.py:418: RuntimeWarning: invalid value encountered in greater\n",
      "  hits = np.where(cur_imp[0] > imp_sha_max)[0]\n"
     ]
    },
    {
     "name": "stdout",
     "output_type": "stream",
     "text": [
      "Iteration: \t17 / 100\n",
      "Confirmed: \t14\n",
      "Tentative: \t9\n",
      "Rejected: \t35\n"
     ]
    },
    {
     "name": "stderr",
     "output_type": "stream",
     "text": [
      "C:\\Users\\user\\Anaconda3\\lib\\site-packages\\boruta\\boruta_py.py:418: RuntimeWarning: invalid value encountered in greater\n",
      "  hits = np.where(cur_imp[0] > imp_sha_max)[0]\n"
     ]
    },
    {
     "name": "stdout",
     "output_type": "stream",
     "text": [
      "Iteration: \t18 / 100\n",
      "Confirmed: \t14\n",
      "Tentative: \t9\n",
      "Rejected: \t35\n"
     ]
    },
    {
     "name": "stderr",
     "output_type": "stream",
     "text": [
      "C:\\Users\\user\\Anaconda3\\lib\\site-packages\\boruta\\boruta_py.py:418: RuntimeWarning: invalid value encountered in greater\n",
      "  hits = np.where(cur_imp[0] > imp_sha_max)[0]\n"
     ]
    },
    {
     "name": "stdout",
     "output_type": "stream",
     "text": [
      "Iteration: \t19 / 100\n",
      "Confirmed: \t14\n",
      "Tentative: \t9\n",
      "Rejected: \t35\n"
     ]
    },
    {
     "name": "stderr",
     "output_type": "stream",
     "text": [
      "C:\\Users\\user\\Anaconda3\\lib\\site-packages\\boruta\\boruta_py.py:418: RuntimeWarning: invalid value encountered in greater\n",
      "  hits = np.where(cur_imp[0] > imp_sha_max)[0]\n"
     ]
    },
    {
     "name": "stdout",
     "output_type": "stream",
     "text": [
      "Iteration: \t20 / 100\n",
      "Confirmed: \t14\n",
      "Tentative: \t9\n",
      "Rejected: \t35\n"
     ]
    },
    {
     "name": "stderr",
     "output_type": "stream",
     "text": [
      "C:\\Users\\user\\Anaconda3\\lib\\site-packages\\boruta\\boruta_py.py:418: RuntimeWarning: invalid value encountered in greater\n",
      "  hits = np.where(cur_imp[0] > imp_sha_max)[0]\n"
     ]
    },
    {
     "name": "stdout",
     "output_type": "stream",
     "text": [
      "Iteration: \t21 / 100\n",
      "Confirmed: \t14\n",
      "Tentative: \t9\n",
      "Rejected: \t35\n"
     ]
    },
    {
     "name": "stderr",
     "output_type": "stream",
     "text": [
      "C:\\Users\\user\\Anaconda3\\lib\\site-packages\\boruta\\boruta_py.py:418: RuntimeWarning: invalid value encountered in greater\n",
      "  hits = np.where(cur_imp[0] > imp_sha_max)[0]\n"
     ]
    },
    {
     "name": "stdout",
     "output_type": "stream",
     "text": [
      "Iteration: \t22 / 100\n",
      "Confirmed: \t14\n",
      "Tentative: \t8\n",
      "Rejected: \t36\n"
     ]
    },
    {
     "name": "stderr",
     "output_type": "stream",
     "text": [
      "C:\\Users\\user\\Anaconda3\\lib\\site-packages\\boruta\\boruta_py.py:418: RuntimeWarning: invalid value encountered in greater\n",
      "  hits = np.where(cur_imp[0] > imp_sha_max)[0]\n"
     ]
    },
    {
     "name": "stdout",
     "output_type": "stream",
     "text": [
      "Iteration: \t23 / 100\n",
      "Confirmed: \t14\n",
      "Tentative: \t8\n",
      "Rejected: \t36\n"
     ]
    },
    {
     "name": "stderr",
     "output_type": "stream",
     "text": [
      "C:\\Users\\user\\Anaconda3\\lib\\site-packages\\boruta\\boruta_py.py:418: RuntimeWarning: invalid value encountered in greater\n",
      "  hits = np.where(cur_imp[0] > imp_sha_max)[0]\n"
     ]
    },
    {
     "name": "stdout",
     "output_type": "stream",
     "text": [
      "Iteration: \t24 / 100\n",
      "Confirmed: \t14\n",
      "Tentative: \t8\n",
      "Rejected: \t36\n"
     ]
    },
    {
     "name": "stderr",
     "output_type": "stream",
     "text": [
      "C:\\Users\\user\\Anaconda3\\lib\\site-packages\\boruta\\boruta_py.py:418: RuntimeWarning: invalid value encountered in greater\n",
      "  hits = np.where(cur_imp[0] > imp_sha_max)[0]\n"
     ]
    },
    {
     "name": "stdout",
     "output_type": "stream",
     "text": [
      "Iteration: \t25 / 100\n",
      "Confirmed: \t14\n",
      "Tentative: \t8\n",
      "Rejected: \t36\n"
     ]
    },
    {
     "name": "stderr",
     "output_type": "stream",
     "text": [
      "C:\\Users\\user\\Anaconda3\\lib\\site-packages\\boruta\\boruta_py.py:418: RuntimeWarning: invalid value encountered in greater\n",
      "  hits = np.where(cur_imp[0] > imp_sha_max)[0]\n"
     ]
    },
    {
     "name": "stdout",
     "output_type": "stream",
     "text": [
      "Iteration: \t26 / 100\n",
      "Confirmed: \t15\n",
      "Tentative: \t7\n",
      "Rejected: \t36\n"
     ]
    },
    {
     "name": "stderr",
     "output_type": "stream",
     "text": [
      "C:\\Users\\user\\Anaconda3\\lib\\site-packages\\boruta\\boruta_py.py:418: RuntimeWarning: invalid value encountered in greater\n",
      "  hits = np.where(cur_imp[0] > imp_sha_max)[0]\n"
     ]
    },
    {
     "name": "stdout",
     "output_type": "stream",
     "text": [
      "Iteration: \t27 / 100\n",
      "Confirmed: \t15\n",
      "Tentative: \t7\n",
      "Rejected: \t36\n"
     ]
    },
    {
     "name": "stderr",
     "output_type": "stream",
     "text": [
      "C:\\Users\\user\\Anaconda3\\lib\\site-packages\\boruta\\boruta_py.py:418: RuntimeWarning: invalid value encountered in greater\n",
      "  hits = np.where(cur_imp[0] > imp_sha_max)[0]\n"
     ]
    },
    {
     "name": "stdout",
     "output_type": "stream",
     "text": [
      "Iteration: \t28 / 100\n",
      "Confirmed: \t15\n",
      "Tentative: \t7\n",
      "Rejected: \t36\n"
     ]
    },
    {
     "name": "stderr",
     "output_type": "stream",
     "text": [
      "C:\\Users\\user\\Anaconda3\\lib\\site-packages\\boruta\\boruta_py.py:418: RuntimeWarning: invalid value encountered in greater\n",
      "  hits = np.where(cur_imp[0] > imp_sha_max)[0]\n"
     ]
    },
    {
     "name": "stdout",
     "output_type": "stream",
     "text": [
      "Iteration: \t29 / 100\n",
      "Confirmed: \t16\n",
      "Tentative: \t6\n",
      "Rejected: \t36\n"
     ]
    },
    {
     "name": "stderr",
     "output_type": "stream",
     "text": [
      "C:\\Users\\user\\Anaconda3\\lib\\site-packages\\boruta\\boruta_py.py:418: RuntimeWarning: invalid value encountered in greater\n",
      "  hits = np.where(cur_imp[0] > imp_sha_max)[0]\n"
     ]
    },
    {
     "name": "stdout",
     "output_type": "stream",
     "text": [
      "Iteration: \t30 / 100\n",
      "Confirmed: \t16\n",
      "Tentative: \t6\n",
      "Rejected: \t36\n"
     ]
    },
    {
     "name": "stderr",
     "output_type": "stream",
     "text": [
      "C:\\Users\\user\\Anaconda3\\lib\\site-packages\\boruta\\boruta_py.py:418: RuntimeWarning: invalid value encountered in greater\n",
      "  hits = np.where(cur_imp[0] > imp_sha_max)[0]\n"
     ]
    },
    {
     "name": "stdout",
     "output_type": "stream",
     "text": [
      "Iteration: \t31 / 100\n",
      "Confirmed: \t16\n",
      "Tentative: \t6\n",
      "Rejected: \t36\n"
     ]
    },
    {
     "name": "stderr",
     "output_type": "stream",
     "text": [
      "C:\\Users\\user\\Anaconda3\\lib\\site-packages\\boruta\\boruta_py.py:418: RuntimeWarning: invalid value encountered in greater\n",
      "  hits = np.where(cur_imp[0] > imp_sha_max)[0]\n"
     ]
    },
    {
     "name": "stdout",
     "output_type": "stream",
     "text": [
      "Iteration: \t32 / 100\n",
      "Confirmed: \t16\n",
      "Tentative: \t6\n",
      "Rejected: \t36\n"
     ]
    },
    {
     "name": "stderr",
     "output_type": "stream",
     "text": [
      "C:\\Users\\user\\Anaconda3\\lib\\site-packages\\boruta\\boruta_py.py:418: RuntimeWarning: invalid value encountered in greater\n",
      "  hits = np.where(cur_imp[0] > imp_sha_max)[0]\n"
     ]
    },
    {
     "name": "stdout",
     "output_type": "stream",
     "text": [
      "Iteration: \t33 / 100\n",
      "Confirmed: \t16\n",
      "Tentative: \t6\n",
      "Rejected: \t36\n"
     ]
    },
    {
     "name": "stderr",
     "output_type": "stream",
     "text": [
      "C:\\Users\\user\\Anaconda3\\lib\\site-packages\\boruta\\boruta_py.py:418: RuntimeWarning: invalid value encountered in greater\n",
      "  hits = np.where(cur_imp[0] > imp_sha_max)[0]\n"
     ]
    },
    {
     "name": "stdout",
     "output_type": "stream",
     "text": [
      "Iteration: \t34 / 100\n",
      "Confirmed: \t16\n",
      "Tentative: \t6\n",
      "Rejected: \t36\n"
     ]
    },
    {
     "name": "stderr",
     "output_type": "stream",
     "text": [
      "C:\\Users\\user\\Anaconda3\\lib\\site-packages\\boruta\\boruta_py.py:418: RuntimeWarning: invalid value encountered in greater\n",
      "  hits = np.where(cur_imp[0] > imp_sha_max)[0]\n"
     ]
    },
    {
     "name": "stdout",
     "output_type": "stream",
     "text": [
      "Iteration: \t35 / 100\n",
      "Confirmed: \t16\n",
      "Tentative: \t6\n",
      "Rejected: \t36\n"
     ]
    },
    {
     "name": "stderr",
     "output_type": "stream",
     "text": [
      "C:\\Users\\user\\Anaconda3\\lib\\site-packages\\boruta\\boruta_py.py:418: RuntimeWarning: invalid value encountered in greater\n",
      "  hits = np.where(cur_imp[0] > imp_sha_max)[0]\n"
     ]
    },
    {
     "name": "stdout",
     "output_type": "stream",
     "text": [
      "Iteration: \t36 / 100\n",
      "Confirmed: \t16\n",
      "Tentative: \t6\n",
      "Rejected: \t36\n"
     ]
    },
    {
     "name": "stderr",
     "output_type": "stream",
     "text": [
      "C:\\Users\\user\\Anaconda3\\lib\\site-packages\\boruta\\boruta_py.py:418: RuntimeWarning: invalid value encountered in greater\n",
      "  hits = np.where(cur_imp[0] > imp_sha_max)[0]\n"
     ]
    },
    {
     "name": "stdout",
     "output_type": "stream",
     "text": [
      "Iteration: \t37 / 100\n",
      "Confirmed: \t17\n",
      "Tentative: \t5\n",
      "Rejected: \t36\n"
     ]
    },
    {
     "name": "stderr",
     "output_type": "stream",
     "text": [
      "C:\\Users\\user\\Anaconda3\\lib\\site-packages\\boruta\\boruta_py.py:418: RuntimeWarning: invalid value encountered in greater\n",
      "  hits = np.where(cur_imp[0] > imp_sha_max)[0]\n"
     ]
    },
    {
     "name": "stdout",
     "output_type": "stream",
     "text": [
      "Iteration: \t38 / 100\n",
      "Confirmed: \t17\n",
      "Tentative: \t5\n",
      "Rejected: \t36\n"
     ]
    },
    {
     "name": "stderr",
     "output_type": "stream",
     "text": [
      "C:\\Users\\user\\Anaconda3\\lib\\site-packages\\boruta\\boruta_py.py:418: RuntimeWarning: invalid value encountered in greater\n",
      "  hits = np.where(cur_imp[0] > imp_sha_max)[0]\n"
     ]
    },
    {
     "name": "stdout",
     "output_type": "stream",
     "text": [
      "Iteration: \t39 / 100\n",
      "Confirmed: \t17\n",
      "Tentative: \t5\n",
      "Rejected: \t36\n"
     ]
    },
    {
     "name": "stderr",
     "output_type": "stream",
     "text": [
      "C:\\Users\\user\\Anaconda3\\lib\\site-packages\\boruta\\boruta_py.py:418: RuntimeWarning: invalid value encountered in greater\n",
      "  hits = np.where(cur_imp[0] > imp_sha_max)[0]\n"
     ]
    },
    {
     "name": "stdout",
     "output_type": "stream",
     "text": [
      "Iteration: \t40 / 100\n",
      "Confirmed: \t17\n",
      "Tentative: \t5\n",
      "Rejected: \t36\n"
     ]
    },
    {
     "name": "stderr",
     "output_type": "stream",
     "text": [
      "C:\\Users\\user\\Anaconda3\\lib\\site-packages\\boruta\\boruta_py.py:418: RuntimeWarning: invalid value encountered in greater\n",
      "  hits = np.where(cur_imp[0] > imp_sha_max)[0]\n"
     ]
    },
    {
     "name": "stdout",
     "output_type": "stream",
     "text": [
      "Iteration: \t41 / 100\n",
      "Confirmed: \t17\n",
      "Tentative: \t5\n",
      "Rejected: \t36\n"
     ]
    },
    {
     "name": "stderr",
     "output_type": "stream",
     "text": [
      "C:\\Users\\user\\Anaconda3\\lib\\site-packages\\boruta\\boruta_py.py:418: RuntimeWarning: invalid value encountered in greater\n",
      "  hits = np.where(cur_imp[0] > imp_sha_max)[0]\n"
     ]
    },
    {
     "name": "stdout",
     "output_type": "stream",
     "text": [
      "Iteration: \t42 / 100\n",
      "Confirmed: \t17\n",
      "Tentative: \t5\n",
      "Rejected: \t36\n"
     ]
    },
    {
     "name": "stderr",
     "output_type": "stream",
     "text": [
      "C:\\Users\\user\\Anaconda3\\lib\\site-packages\\boruta\\boruta_py.py:418: RuntimeWarning: invalid value encountered in greater\n",
      "  hits = np.where(cur_imp[0] > imp_sha_max)[0]\n"
     ]
    },
    {
     "name": "stdout",
     "output_type": "stream",
     "text": [
      "Iteration: \t43 / 100\n",
      "Confirmed: \t17\n",
      "Tentative: \t5\n",
      "Rejected: \t36\n"
     ]
    },
    {
     "name": "stderr",
     "output_type": "stream",
     "text": [
      "C:\\Users\\user\\Anaconda3\\lib\\site-packages\\boruta\\boruta_py.py:418: RuntimeWarning: invalid value encountered in greater\n",
      "  hits = np.where(cur_imp[0] > imp_sha_max)[0]\n"
     ]
    },
    {
     "name": "stdout",
     "output_type": "stream",
     "text": [
      "Iteration: \t44 / 100\n",
      "Confirmed: \t17\n",
      "Tentative: \t5\n",
      "Rejected: \t36\n"
     ]
    },
    {
     "name": "stderr",
     "output_type": "stream",
     "text": [
      "C:\\Users\\user\\Anaconda3\\lib\\site-packages\\boruta\\boruta_py.py:418: RuntimeWarning: invalid value encountered in greater\n",
      "  hits = np.where(cur_imp[0] > imp_sha_max)[0]\n"
     ]
    },
    {
     "name": "stdout",
     "output_type": "stream",
     "text": [
      "Iteration: \t45 / 100\n",
      "Confirmed: \t17\n",
      "Tentative: \t5\n",
      "Rejected: \t36\n"
     ]
    },
    {
     "name": "stderr",
     "output_type": "stream",
     "text": [
      "C:\\Users\\user\\Anaconda3\\lib\\site-packages\\boruta\\boruta_py.py:418: RuntimeWarning: invalid value encountered in greater\n",
      "  hits = np.where(cur_imp[0] > imp_sha_max)[0]\n"
     ]
    },
    {
     "name": "stdout",
     "output_type": "stream",
     "text": [
      "Iteration: \t46 / 100\n",
      "Confirmed: \t18\n",
      "Tentative: \t4\n",
      "Rejected: \t36\n"
     ]
    },
    {
     "name": "stderr",
     "output_type": "stream",
     "text": [
      "C:\\Users\\user\\Anaconda3\\lib\\site-packages\\boruta\\boruta_py.py:418: RuntimeWarning: invalid value encountered in greater\n",
      "  hits = np.where(cur_imp[0] > imp_sha_max)[0]\n"
     ]
    },
    {
     "name": "stdout",
     "output_type": "stream",
     "text": [
      "Iteration: \t47 / 100\n",
      "Confirmed: \t18\n",
      "Tentative: \t4\n",
      "Rejected: \t36\n"
     ]
    },
    {
     "name": "stderr",
     "output_type": "stream",
     "text": [
      "C:\\Users\\user\\Anaconda3\\lib\\site-packages\\boruta\\boruta_py.py:418: RuntimeWarning: invalid value encountered in greater\n",
      "  hits = np.where(cur_imp[0] > imp_sha_max)[0]\n"
     ]
    },
    {
     "name": "stdout",
     "output_type": "stream",
     "text": [
      "Iteration: \t48 / 100\n",
      "Confirmed: \t18\n",
      "Tentative: \t4\n",
      "Rejected: \t36\n"
     ]
    },
    {
     "name": "stderr",
     "output_type": "stream",
     "text": [
      "C:\\Users\\user\\Anaconda3\\lib\\site-packages\\boruta\\boruta_py.py:418: RuntimeWarning: invalid value encountered in greater\n",
      "  hits = np.where(cur_imp[0] > imp_sha_max)[0]\n"
     ]
    },
    {
     "name": "stdout",
     "output_type": "stream",
     "text": [
      "Iteration: \t49 / 100\n",
      "Confirmed: \t18\n",
      "Tentative: \t4\n",
      "Rejected: \t36\n"
     ]
    },
    {
     "name": "stderr",
     "output_type": "stream",
     "text": [
      "C:\\Users\\user\\Anaconda3\\lib\\site-packages\\boruta\\boruta_py.py:418: RuntimeWarning: invalid value encountered in greater\n",
      "  hits = np.where(cur_imp[0] > imp_sha_max)[0]\n"
     ]
    },
    {
     "name": "stdout",
     "output_type": "stream",
     "text": [
      "Iteration: \t50 / 100\n",
      "Confirmed: \t18\n",
      "Tentative: \t4\n",
      "Rejected: \t36\n"
     ]
    },
    {
     "name": "stderr",
     "output_type": "stream",
     "text": [
      "C:\\Users\\user\\Anaconda3\\lib\\site-packages\\boruta\\boruta_py.py:418: RuntimeWarning: invalid value encountered in greater\n",
      "  hits = np.where(cur_imp[0] > imp_sha_max)[0]\n"
     ]
    },
    {
     "name": "stdout",
     "output_type": "stream",
     "text": [
      "Iteration: \t51 / 100\n",
      "Confirmed: \t18\n",
      "Tentative: \t3\n",
      "Rejected: \t37\n"
     ]
    },
    {
     "name": "stderr",
     "output_type": "stream",
     "text": [
      "C:\\Users\\user\\Anaconda3\\lib\\site-packages\\boruta\\boruta_py.py:418: RuntimeWarning: invalid value encountered in greater\n",
      "  hits = np.where(cur_imp[0] > imp_sha_max)[0]\n"
     ]
    },
    {
     "name": "stdout",
     "output_type": "stream",
     "text": [
      "Iteration: \t52 / 100\n",
      "Confirmed: \t18\n",
      "Tentative: \t3\n",
      "Rejected: \t37\n"
     ]
    },
    {
     "name": "stderr",
     "output_type": "stream",
     "text": [
      "C:\\Users\\user\\Anaconda3\\lib\\site-packages\\boruta\\boruta_py.py:418: RuntimeWarning: invalid value encountered in greater\n",
      "  hits = np.where(cur_imp[0] > imp_sha_max)[0]\n"
     ]
    },
    {
     "name": "stdout",
     "output_type": "stream",
     "text": [
      "Iteration: \t53 / 100\n",
      "Confirmed: \t18\n",
      "Tentative: \t3\n",
      "Rejected: \t37\n"
     ]
    },
    {
     "name": "stderr",
     "output_type": "stream",
     "text": [
      "C:\\Users\\user\\Anaconda3\\lib\\site-packages\\boruta\\boruta_py.py:418: RuntimeWarning: invalid value encountered in greater\n",
      "  hits = np.where(cur_imp[0] > imp_sha_max)[0]\n"
     ]
    },
    {
     "name": "stdout",
     "output_type": "stream",
     "text": [
      "Iteration: \t54 / 100\n",
      "Confirmed: \t18\n",
      "Tentative: \t3\n",
      "Rejected: \t37\n"
     ]
    },
    {
     "name": "stderr",
     "output_type": "stream",
     "text": [
      "C:\\Users\\user\\Anaconda3\\lib\\site-packages\\boruta\\boruta_py.py:418: RuntimeWarning: invalid value encountered in greater\n",
      "  hits = np.where(cur_imp[0] > imp_sha_max)[0]\n"
     ]
    },
    {
     "name": "stdout",
     "output_type": "stream",
     "text": [
      "Iteration: \t55 / 100\n",
      "Confirmed: \t18\n",
      "Tentative: \t3\n",
      "Rejected: \t37\n"
     ]
    },
    {
     "name": "stderr",
     "output_type": "stream",
     "text": [
      "C:\\Users\\user\\Anaconda3\\lib\\site-packages\\boruta\\boruta_py.py:418: RuntimeWarning: invalid value encountered in greater\n",
      "  hits = np.where(cur_imp[0] > imp_sha_max)[0]\n"
     ]
    },
    {
     "name": "stdout",
     "output_type": "stream",
     "text": [
      "Iteration: \t56 / 100\n",
      "Confirmed: \t18\n",
      "Tentative: \t3\n",
      "Rejected: \t37\n"
     ]
    },
    {
     "name": "stderr",
     "output_type": "stream",
     "text": [
      "C:\\Users\\user\\Anaconda3\\lib\\site-packages\\boruta\\boruta_py.py:418: RuntimeWarning: invalid value encountered in greater\n",
      "  hits = np.where(cur_imp[0] > imp_sha_max)[0]\n"
     ]
    },
    {
     "name": "stdout",
     "output_type": "stream",
     "text": [
      "Iteration: \t57 / 100\n",
      "Confirmed: \t18\n",
      "Tentative: \t3\n",
      "Rejected: \t37\n"
     ]
    },
    {
     "name": "stderr",
     "output_type": "stream",
     "text": [
      "C:\\Users\\user\\Anaconda3\\lib\\site-packages\\boruta\\boruta_py.py:418: RuntimeWarning: invalid value encountered in greater\n",
      "  hits = np.where(cur_imp[0] > imp_sha_max)[0]\n"
     ]
    },
    {
     "name": "stdout",
     "output_type": "stream",
     "text": [
      "Iteration: \t58 / 100\n",
      "Confirmed: \t18\n",
      "Tentative: \t3\n",
      "Rejected: \t37\n"
     ]
    },
    {
     "name": "stderr",
     "output_type": "stream",
     "text": [
      "C:\\Users\\user\\Anaconda3\\lib\\site-packages\\boruta\\boruta_py.py:418: RuntimeWarning: invalid value encountered in greater\n",
      "  hits = np.where(cur_imp[0] > imp_sha_max)[0]\n"
     ]
    },
    {
     "name": "stdout",
     "output_type": "stream",
     "text": [
      "Iteration: \t59 / 100\n",
      "Confirmed: \t18\n",
      "Tentative: \t3\n",
      "Rejected: \t37\n"
     ]
    },
    {
     "name": "stderr",
     "output_type": "stream",
     "text": [
      "C:\\Users\\user\\Anaconda3\\lib\\site-packages\\boruta\\boruta_py.py:418: RuntimeWarning: invalid value encountered in greater\n",
      "  hits = np.where(cur_imp[0] > imp_sha_max)[0]\n"
     ]
    },
    {
     "name": "stdout",
     "output_type": "stream",
     "text": [
      "Iteration: \t60 / 100\n",
      "Confirmed: \t18\n",
      "Tentative: \t3\n",
      "Rejected: \t37\n"
     ]
    },
    {
     "name": "stderr",
     "output_type": "stream",
     "text": [
      "C:\\Users\\user\\Anaconda3\\lib\\site-packages\\boruta\\boruta_py.py:418: RuntimeWarning: invalid value encountered in greater\n",
      "  hits = np.where(cur_imp[0] > imp_sha_max)[0]\n"
     ]
    },
    {
     "name": "stdout",
     "output_type": "stream",
     "text": [
      "Iteration: \t61 / 100\n",
      "Confirmed: \t18\n",
      "Tentative: \t3\n",
      "Rejected: \t37\n"
     ]
    },
    {
     "name": "stderr",
     "output_type": "stream",
     "text": [
      "C:\\Users\\user\\Anaconda3\\lib\\site-packages\\boruta\\boruta_py.py:418: RuntimeWarning: invalid value encountered in greater\n",
      "  hits = np.where(cur_imp[0] > imp_sha_max)[0]\n"
     ]
    },
    {
     "name": "stdout",
     "output_type": "stream",
     "text": [
      "Iteration: \t62 / 100\n",
      "Confirmed: \t18\n",
      "Tentative: \t3\n",
      "Rejected: \t37\n"
     ]
    },
    {
     "name": "stderr",
     "output_type": "stream",
     "text": [
      "C:\\Users\\user\\Anaconda3\\lib\\site-packages\\boruta\\boruta_py.py:418: RuntimeWarning: invalid value encountered in greater\n",
      "  hits = np.where(cur_imp[0] > imp_sha_max)[0]\n"
     ]
    },
    {
     "name": "stdout",
     "output_type": "stream",
     "text": [
      "Iteration: \t63 / 100\n",
      "Confirmed: \t18\n",
      "Tentative: \t3\n",
      "Rejected: \t37\n"
     ]
    },
    {
     "name": "stderr",
     "output_type": "stream",
     "text": [
      "C:\\Users\\user\\Anaconda3\\lib\\site-packages\\boruta\\boruta_py.py:418: RuntimeWarning: invalid value encountered in greater\n",
      "  hits = np.where(cur_imp[0] > imp_sha_max)[0]\n"
     ]
    },
    {
     "name": "stdout",
     "output_type": "stream",
     "text": [
      "Iteration: \t64 / 100\n",
      "Confirmed: \t18\n",
      "Tentative: \t3\n",
      "Rejected: \t37\n"
     ]
    },
    {
     "name": "stderr",
     "output_type": "stream",
     "text": [
      "C:\\Users\\user\\Anaconda3\\lib\\site-packages\\boruta\\boruta_py.py:418: RuntimeWarning: invalid value encountered in greater\n",
      "  hits = np.where(cur_imp[0] > imp_sha_max)[0]\n"
     ]
    },
    {
     "name": "stdout",
     "output_type": "stream",
     "text": [
      "Iteration: \t65 / 100\n",
      "Confirmed: \t18\n",
      "Tentative: \t3\n",
      "Rejected: \t37\n"
     ]
    },
    {
     "name": "stderr",
     "output_type": "stream",
     "text": [
      "C:\\Users\\user\\Anaconda3\\lib\\site-packages\\boruta\\boruta_py.py:418: RuntimeWarning: invalid value encountered in greater\n",
      "  hits = np.where(cur_imp[0] > imp_sha_max)[0]\n"
     ]
    },
    {
     "name": "stdout",
     "output_type": "stream",
     "text": [
      "Iteration: \t66 / 100\n",
      "Confirmed: \t18\n",
      "Tentative: \t3\n",
      "Rejected: \t37\n"
     ]
    },
    {
     "name": "stderr",
     "output_type": "stream",
     "text": [
      "C:\\Users\\user\\Anaconda3\\lib\\site-packages\\boruta\\boruta_py.py:418: RuntimeWarning: invalid value encountered in greater\n",
      "  hits = np.where(cur_imp[0] > imp_sha_max)[0]\n"
     ]
    },
    {
     "name": "stdout",
     "output_type": "stream",
     "text": [
      "Iteration: \t67 / 100\n",
      "Confirmed: \t18\n",
      "Tentative: \t3\n",
      "Rejected: \t37\n"
     ]
    },
    {
     "name": "stderr",
     "output_type": "stream",
     "text": [
      "C:\\Users\\user\\Anaconda3\\lib\\site-packages\\boruta\\boruta_py.py:418: RuntimeWarning: invalid value encountered in greater\n",
      "  hits = np.where(cur_imp[0] > imp_sha_max)[0]\n"
     ]
    },
    {
     "name": "stdout",
     "output_type": "stream",
     "text": [
      "Iteration: \t68 / 100\n",
      "Confirmed: \t18\n",
      "Tentative: \t3\n",
      "Rejected: \t37\n"
     ]
    },
    {
     "name": "stderr",
     "output_type": "stream",
     "text": [
      "C:\\Users\\user\\Anaconda3\\lib\\site-packages\\boruta\\boruta_py.py:418: RuntimeWarning: invalid value encountered in greater\n",
      "  hits = np.where(cur_imp[0] > imp_sha_max)[0]\n"
     ]
    },
    {
     "name": "stdout",
     "output_type": "stream",
     "text": [
      "Iteration: \t69 / 100\n",
      "Confirmed: \t18\n",
      "Tentative: \t3\n",
      "Rejected: \t37\n"
     ]
    },
    {
     "name": "stderr",
     "output_type": "stream",
     "text": [
      "C:\\Users\\user\\Anaconda3\\lib\\site-packages\\boruta\\boruta_py.py:418: RuntimeWarning: invalid value encountered in greater\n",
      "  hits = np.where(cur_imp[0] > imp_sha_max)[0]\n"
     ]
    },
    {
     "name": "stdout",
     "output_type": "stream",
     "text": [
      "Iteration: \t70 / 100\n",
      "Confirmed: \t18\n",
      "Tentative: \t3\n",
      "Rejected: \t37\n"
     ]
    },
    {
     "name": "stderr",
     "output_type": "stream",
     "text": [
      "C:\\Users\\user\\Anaconda3\\lib\\site-packages\\boruta\\boruta_py.py:418: RuntimeWarning: invalid value encountered in greater\n",
      "  hits = np.where(cur_imp[0] > imp_sha_max)[0]\n"
     ]
    },
    {
     "name": "stdout",
     "output_type": "stream",
     "text": [
      "Iteration: \t71 / 100\n",
      "Confirmed: \t18\n",
      "Tentative: \t3\n",
      "Rejected: \t37\n"
     ]
    },
    {
     "name": "stderr",
     "output_type": "stream",
     "text": [
      "C:\\Users\\user\\Anaconda3\\lib\\site-packages\\boruta\\boruta_py.py:418: RuntimeWarning: invalid value encountered in greater\n",
      "  hits = np.where(cur_imp[0] > imp_sha_max)[0]\n"
     ]
    },
    {
     "name": "stdout",
     "output_type": "stream",
     "text": [
      "Iteration: \t72 / 100\n",
      "Confirmed: \t18\n",
      "Tentative: \t3\n",
      "Rejected: \t37\n"
     ]
    },
    {
     "name": "stderr",
     "output_type": "stream",
     "text": [
      "C:\\Users\\user\\Anaconda3\\lib\\site-packages\\boruta\\boruta_py.py:418: RuntimeWarning: invalid value encountered in greater\n",
      "  hits = np.where(cur_imp[0] > imp_sha_max)[0]\n"
     ]
    },
    {
     "name": "stdout",
     "output_type": "stream",
     "text": [
      "Iteration: \t73 / 100\n",
      "Confirmed: \t18\n",
      "Tentative: \t3\n",
      "Rejected: \t37\n"
     ]
    },
    {
     "name": "stderr",
     "output_type": "stream",
     "text": [
      "C:\\Users\\user\\Anaconda3\\lib\\site-packages\\boruta\\boruta_py.py:418: RuntimeWarning: invalid value encountered in greater\n",
      "  hits = np.where(cur_imp[0] > imp_sha_max)[0]\n"
     ]
    },
    {
     "name": "stdout",
     "output_type": "stream",
     "text": [
      "Iteration: \t74 / 100\n",
      "Confirmed: \t18\n",
      "Tentative: \t3\n",
      "Rejected: \t37\n"
     ]
    },
    {
     "name": "stderr",
     "output_type": "stream",
     "text": [
      "C:\\Users\\user\\Anaconda3\\lib\\site-packages\\boruta\\boruta_py.py:418: RuntimeWarning: invalid value encountered in greater\n",
      "  hits = np.where(cur_imp[0] > imp_sha_max)[0]\n"
     ]
    },
    {
     "name": "stdout",
     "output_type": "stream",
     "text": [
      "Iteration: \t75 / 100\n",
      "Confirmed: \t18\n",
      "Tentative: \t3\n",
      "Rejected: \t37\n"
     ]
    },
    {
     "name": "stderr",
     "output_type": "stream",
     "text": [
      "C:\\Users\\user\\Anaconda3\\lib\\site-packages\\boruta\\boruta_py.py:418: RuntimeWarning: invalid value encountered in greater\n",
      "  hits = np.where(cur_imp[0] > imp_sha_max)[0]\n"
     ]
    },
    {
     "name": "stdout",
     "output_type": "stream",
     "text": [
      "Iteration: \t76 / 100\n",
      "Confirmed: \t18\n",
      "Tentative: \t3\n",
      "Rejected: \t37\n"
     ]
    },
    {
     "name": "stderr",
     "output_type": "stream",
     "text": [
      "C:\\Users\\user\\Anaconda3\\lib\\site-packages\\boruta\\boruta_py.py:418: RuntimeWarning: invalid value encountered in greater\n",
      "  hits = np.where(cur_imp[0] > imp_sha_max)[0]\n"
     ]
    },
    {
     "name": "stdout",
     "output_type": "stream",
     "text": [
      "Iteration: \t77 / 100\n",
      "Confirmed: \t18\n",
      "Tentative: \t3\n",
      "Rejected: \t37\n"
     ]
    },
    {
     "name": "stderr",
     "output_type": "stream",
     "text": [
      "C:\\Users\\user\\Anaconda3\\lib\\site-packages\\boruta\\boruta_py.py:418: RuntimeWarning: invalid value encountered in greater\n",
      "  hits = np.where(cur_imp[0] > imp_sha_max)[0]\n"
     ]
    },
    {
     "name": "stdout",
     "output_type": "stream",
     "text": [
      "Iteration: \t78 / 100\n",
      "Confirmed: \t18\n",
      "Tentative: \t3\n",
      "Rejected: \t37\n"
     ]
    },
    {
     "name": "stderr",
     "output_type": "stream",
     "text": [
      "C:\\Users\\user\\Anaconda3\\lib\\site-packages\\boruta\\boruta_py.py:418: RuntimeWarning: invalid value encountered in greater\n",
      "  hits = np.where(cur_imp[0] > imp_sha_max)[0]\n"
     ]
    },
    {
     "name": "stdout",
     "output_type": "stream",
     "text": [
      "Iteration: \t79 / 100\n",
      "Confirmed: \t18\n",
      "Tentative: \t3\n",
      "Rejected: \t37\n"
     ]
    },
    {
     "name": "stderr",
     "output_type": "stream",
     "text": [
      "C:\\Users\\user\\Anaconda3\\lib\\site-packages\\boruta\\boruta_py.py:418: RuntimeWarning: invalid value encountered in greater\n",
      "  hits = np.where(cur_imp[0] > imp_sha_max)[0]\n"
     ]
    },
    {
     "name": "stdout",
     "output_type": "stream",
     "text": [
      "Iteration: \t80 / 100\n",
      "Confirmed: \t18\n",
      "Tentative: \t3\n",
      "Rejected: \t37\n"
     ]
    },
    {
     "name": "stderr",
     "output_type": "stream",
     "text": [
      "C:\\Users\\user\\Anaconda3\\lib\\site-packages\\boruta\\boruta_py.py:418: RuntimeWarning: invalid value encountered in greater\n",
      "  hits = np.where(cur_imp[0] > imp_sha_max)[0]\n"
     ]
    },
    {
     "name": "stdout",
     "output_type": "stream",
     "text": [
      "Iteration: \t81 / 100\n",
      "Confirmed: \t18\n",
      "Tentative: \t3\n",
      "Rejected: \t37\n"
     ]
    },
    {
     "name": "stderr",
     "output_type": "stream",
     "text": [
      "C:\\Users\\user\\Anaconda3\\lib\\site-packages\\boruta\\boruta_py.py:418: RuntimeWarning: invalid value encountered in greater\n",
      "  hits = np.where(cur_imp[0] > imp_sha_max)[0]\n"
     ]
    },
    {
     "name": "stdout",
     "output_type": "stream",
     "text": [
      "Iteration: \t82 / 100\n",
      "Confirmed: \t18\n",
      "Tentative: \t3\n",
      "Rejected: \t37\n"
     ]
    },
    {
     "name": "stderr",
     "output_type": "stream",
     "text": [
      "C:\\Users\\user\\Anaconda3\\lib\\site-packages\\boruta\\boruta_py.py:418: RuntimeWarning: invalid value encountered in greater\n",
      "  hits = np.where(cur_imp[0] > imp_sha_max)[0]\n"
     ]
    },
    {
     "name": "stdout",
     "output_type": "stream",
     "text": [
      "Iteration: \t83 / 100\n",
      "Confirmed: \t19\n",
      "Tentative: \t2\n",
      "Rejected: \t37\n"
     ]
    },
    {
     "name": "stderr",
     "output_type": "stream",
     "text": [
      "C:\\Users\\user\\Anaconda3\\lib\\site-packages\\boruta\\boruta_py.py:418: RuntimeWarning: invalid value encountered in greater\n",
      "  hits = np.where(cur_imp[0] > imp_sha_max)[0]\n"
     ]
    },
    {
     "name": "stdout",
     "output_type": "stream",
     "text": [
      "Iteration: \t84 / 100\n",
      "Confirmed: \t19\n",
      "Tentative: \t2\n",
      "Rejected: \t37\n"
     ]
    },
    {
     "name": "stderr",
     "output_type": "stream",
     "text": [
      "C:\\Users\\user\\Anaconda3\\lib\\site-packages\\boruta\\boruta_py.py:418: RuntimeWarning: invalid value encountered in greater\n",
      "  hits = np.where(cur_imp[0] > imp_sha_max)[0]\n"
     ]
    },
    {
     "name": "stdout",
     "output_type": "stream",
     "text": [
      "Iteration: \t85 / 100\n",
      "Confirmed: \t19\n",
      "Tentative: \t2\n",
      "Rejected: \t37\n"
     ]
    },
    {
     "name": "stderr",
     "output_type": "stream",
     "text": [
      "C:\\Users\\user\\Anaconda3\\lib\\site-packages\\boruta\\boruta_py.py:418: RuntimeWarning: invalid value encountered in greater\n",
      "  hits = np.where(cur_imp[0] > imp_sha_max)[0]\n"
     ]
    },
    {
     "name": "stdout",
     "output_type": "stream",
     "text": [
      "Iteration: \t86 / 100\n",
      "Confirmed: \t19\n",
      "Tentative: \t2\n",
      "Rejected: \t37\n"
     ]
    },
    {
     "name": "stderr",
     "output_type": "stream",
     "text": [
      "C:\\Users\\user\\Anaconda3\\lib\\site-packages\\boruta\\boruta_py.py:418: RuntimeWarning: invalid value encountered in greater\n",
      "  hits = np.where(cur_imp[0] > imp_sha_max)[0]\n"
     ]
    },
    {
     "name": "stdout",
     "output_type": "stream",
     "text": [
      "Iteration: \t87 / 100\n",
      "Confirmed: \t19\n",
      "Tentative: \t2\n",
      "Rejected: \t37\n"
     ]
    },
    {
     "name": "stderr",
     "output_type": "stream",
     "text": [
      "C:\\Users\\user\\Anaconda3\\lib\\site-packages\\boruta\\boruta_py.py:418: RuntimeWarning: invalid value encountered in greater\n",
      "  hits = np.where(cur_imp[0] > imp_sha_max)[0]\n"
     ]
    },
    {
     "name": "stdout",
     "output_type": "stream",
     "text": [
      "Iteration: \t88 / 100\n",
      "Confirmed: \t19\n",
      "Tentative: \t2\n",
      "Rejected: \t37\n"
     ]
    },
    {
     "name": "stderr",
     "output_type": "stream",
     "text": [
      "C:\\Users\\user\\Anaconda3\\lib\\site-packages\\boruta\\boruta_py.py:418: RuntimeWarning: invalid value encountered in greater\n",
      "  hits = np.where(cur_imp[0] > imp_sha_max)[0]\n"
     ]
    },
    {
     "name": "stdout",
     "output_type": "stream",
     "text": [
      "Iteration: \t89 / 100\n",
      "Confirmed: \t19\n",
      "Tentative: \t2\n",
      "Rejected: \t37\n"
     ]
    },
    {
     "name": "stderr",
     "output_type": "stream",
     "text": [
      "C:\\Users\\user\\Anaconda3\\lib\\site-packages\\boruta\\boruta_py.py:418: RuntimeWarning: invalid value encountered in greater\n",
      "  hits = np.where(cur_imp[0] > imp_sha_max)[0]\n"
     ]
    },
    {
     "name": "stdout",
     "output_type": "stream",
     "text": [
      "Iteration: \t90 / 100\n",
      "Confirmed: \t19\n",
      "Tentative: \t2\n",
      "Rejected: \t37\n"
     ]
    },
    {
     "name": "stderr",
     "output_type": "stream",
     "text": [
      "C:\\Users\\user\\Anaconda3\\lib\\site-packages\\boruta\\boruta_py.py:418: RuntimeWarning: invalid value encountered in greater\n",
      "  hits = np.where(cur_imp[0] > imp_sha_max)[0]\n"
     ]
    },
    {
     "name": "stdout",
     "output_type": "stream",
     "text": [
      "Iteration: \t91 / 100\n",
      "Confirmed: \t19\n",
      "Tentative: \t2\n",
      "Rejected: \t37\n"
     ]
    },
    {
     "name": "stderr",
     "output_type": "stream",
     "text": [
      "C:\\Users\\user\\Anaconda3\\lib\\site-packages\\boruta\\boruta_py.py:418: RuntimeWarning: invalid value encountered in greater\n",
      "  hits = np.where(cur_imp[0] > imp_sha_max)[0]\n"
     ]
    },
    {
     "name": "stdout",
     "output_type": "stream",
     "text": [
      "Iteration: \t92 / 100\n",
      "Confirmed: \t19\n",
      "Tentative: \t2\n",
      "Rejected: \t37\n"
     ]
    },
    {
     "name": "stderr",
     "output_type": "stream",
     "text": [
      "C:\\Users\\user\\Anaconda3\\lib\\site-packages\\boruta\\boruta_py.py:418: RuntimeWarning: invalid value encountered in greater\n",
      "  hits = np.where(cur_imp[0] > imp_sha_max)[0]\n"
     ]
    },
    {
     "name": "stdout",
     "output_type": "stream",
     "text": [
      "Iteration: \t93 / 100\n",
      "Confirmed: \t19\n",
      "Tentative: \t2\n",
      "Rejected: \t37\n"
     ]
    },
    {
     "name": "stderr",
     "output_type": "stream",
     "text": [
      "C:\\Users\\user\\Anaconda3\\lib\\site-packages\\boruta\\boruta_py.py:418: RuntimeWarning: invalid value encountered in greater\n",
      "  hits = np.where(cur_imp[0] > imp_sha_max)[0]\n"
     ]
    },
    {
     "name": "stdout",
     "output_type": "stream",
     "text": [
      "Iteration: \t94 / 100\n",
      "Confirmed: \t19\n",
      "Tentative: \t2\n",
      "Rejected: \t37\n"
     ]
    },
    {
     "name": "stderr",
     "output_type": "stream",
     "text": [
      "C:\\Users\\user\\Anaconda3\\lib\\site-packages\\boruta\\boruta_py.py:418: RuntimeWarning: invalid value encountered in greater\n",
      "  hits = np.where(cur_imp[0] > imp_sha_max)[0]\n"
     ]
    },
    {
     "name": "stdout",
     "output_type": "stream",
     "text": [
      "Iteration: \t95 / 100\n",
      "Confirmed: \t19\n",
      "Tentative: \t2\n",
      "Rejected: \t37\n"
     ]
    },
    {
     "name": "stderr",
     "output_type": "stream",
     "text": [
      "C:\\Users\\user\\Anaconda3\\lib\\site-packages\\boruta\\boruta_py.py:418: RuntimeWarning: invalid value encountered in greater\n",
      "  hits = np.where(cur_imp[0] > imp_sha_max)[0]\n"
     ]
    },
    {
     "name": "stdout",
     "output_type": "stream",
     "text": [
      "Iteration: \t96 / 100\n",
      "Confirmed: \t19\n",
      "Tentative: \t2\n",
      "Rejected: \t37\n"
     ]
    },
    {
     "name": "stderr",
     "output_type": "stream",
     "text": [
      "C:\\Users\\user\\Anaconda3\\lib\\site-packages\\boruta\\boruta_py.py:418: RuntimeWarning: invalid value encountered in greater\n",
      "  hits = np.where(cur_imp[0] > imp_sha_max)[0]\n"
     ]
    },
    {
     "name": "stdout",
     "output_type": "stream",
     "text": [
      "Iteration: \t97 / 100\n",
      "Confirmed: \t19\n",
      "Tentative: \t2\n",
      "Rejected: \t37\n"
     ]
    },
    {
     "name": "stderr",
     "output_type": "stream",
     "text": [
      "C:\\Users\\user\\Anaconda3\\lib\\site-packages\\boruta\\boruta_py.py:418: RuntimeWarning: invalid value encountered in greater\n",
      "  hits = np.where(cur_imp[0] > imp_sha_max)[0]\n"
     ]
    },
    {
     "name": "stdout",
     "output_type": "stream",
     "text": [
      "Iteration: \t98 / 100\n",
      "Confirmed: \t19\n",
      "Tentative: \t2\n",
      "Rejected: \t37\n",
      "Iteration: \t99 / 100\n",
      "Confirmed: \t19\n",
      "Tentative: \t2\n",
      "Rejected: \t37\n",
      "\n",
      "\n",
      "BorutaPy finished running.\n",
      "\n",
      "Iteration: \t100 / 100\n",
      "Confirmed: \t19\n",
      "Tentative: \t1\n",
      "Rejected: \t37\n"
     ]
    },
    {
     "name": "stderr",
     "output_type": "stream",
     "text": [
      "C:\\Users\\user\\Anaconda3\\lib\\site-packages\\boruta\\boruta_py.py:418: RuntimeWarning: invalid value encountered in greater\n",
      "  hits = np.where(cur_imp[0] > imp_sha_max)[0]\n"
     ]
    },
    {
     "data": {
      "text/plain": [
       "array([21,  1,  1, 39,  1,  1, 17,  1, 15,  5, 30, 31,  1, 34, 18,  1, 33,\n",
       "       16, 10,  1,  3,  1,  1,  1,  1,  1,  1,  8,  1, 35, 38, 36, 39, 37,\n",
       "        5, 28,  1,  4,  1,  1,  7,  1,  2, 13, 14, 23, 26, 26, 19,  9, 29,\n",
       "       11, 22, 25, 20, 12, 32, 23])"
      ]
     },
     "execution_count": 59,
     "metadata": {},
     "output_type": "execute_result"
    }
   ],
   "source": [
    "import pandas as pd\n",
    "#from sklearn.ensemble import RandomForestClassifier\n",
    "from sklearn.ensemble import RandomForestRegressor\n",
    "from boruta import BorutaPy\n",
    "\n",
    "# NOTE BorutaPy accepts numpy arrays only, hence the .values attribute\n",
    "y_boruta = y_boruta.ravel()\n",
    "\n",
    "# define random forest classifier, with utilising all cores and\n",
    "# sampling in proportion to y labels\n",
    "rf1 = RandomForestRegressor(n_jobs=-1, max_depth=5)\n",
    "\n",
    "# define Boruta feature selection method\n",
    "feat_selector = BorutaPy(rf1, n_estimators='auto', verbose=5, random_state=1)\n",
    "\n",
    "# find all relevant features - 5 features should be selected\n",
    "feat_selector.fit(X_boruta,y_boruta)\n",
    "\n",
    "# check selected features - first 5 features are selected\n",
    "feat_selector.support_\n",
    "\n",
    "# check ranking of features\n",
    "feat_selector.ranking_\n",
    "\n",
    "# call transform() on X to filter it down to selected features\n",
    "#X_filtered = feat_selector.transform(X)"
   ]
  },
  {
   "cell_type": "code",
   "execution_count": 60,
   "metadata": {},
   "outputs": [
    {
     "name": "stdout",
     "output_type": "stream",
     "text": [
      "[21  1  1 39  1  1 17  1 15  5 30 31  1 34 18  1 33 16 10  1  3  1  1  1  1\n",
      "  1  1  8  1 35 38 36 39 37  5 28  1  4  1  1  7  1  2 13 14 23 26 26 19  9\n",
      " 29 11 22 25 20 12 32 23]\n"
     ]
    }
   ],
   "source": [
    "print(feat_selector.ranking_)"
   ]
  },
  {
   "cell_type": "code",
   "execution_count": 67,
   "metadata": {},
   "outputs": [
    {
     "name": "stdout",
     "output_type": "stream",
     "text": [
      "[False  True  True False  True  True False  True False False False False\n",
      "  True False False  True False False False  True False  True  True  True\n",
      "  True  True  True False  True False False False False False False False\n",
      "  True False  True  True False  True False False False False False False\n",
      " False False False False False False False False False False]\n"
     ]
    }
   ],
   "source": [
    "# check selected features\n",
    "print(feat_selector.support_)"
   ]
  },
  {
   "cell_type": "markdown",
   "metadata": {},
   "source": [
    "### Features selected using Boruta:"
   ]
  },
  {
   "cell_type": "code",
   "execution_count": 71,
   "metadata": {},
   "outputs": [
    {
     "name": "stdout",
     "output_type": "stream",
     "text": [
      "['n_tokens_content', 'n_unique_tokens', 'n_non_stop_unique_tokens', 'num_hrefs', 'num_imgs', 'data_channel_is_entertainment', 'data_channel_is_tech', 'kw_avg_min', 'kw_max_max', 'kw_avg_max', 'kw_min_avg', 'kw_max_avg', 'kw_avg_avg', 'self_reference_min_shares', 'self_reference_avg_sharess', 'is_weekend', 'LDA_01', 'LDA_02', 'LDA_04']\n"
     ]
    }
   ],
   "source": [
    "boruta_features = ['n_tokens_content','n_unique_tokens','n_non_stop_unique_tokens','num_hrefs', 'num_imgs','data_channel_is_entertainment',\n",
    "                  'data_channel_is_tech','kw_avg_min','kw_max_max', 'kw_avg_max', 'kw_min_avg','kw_max_avg','kw_avg_avg', \n",
    "                   'self_reference_min_shares','self_reference_avg_sharess','is_weekend', 'LDA_01', 'LDA_02','LDA_04']\n",
    "print(boruta_features)"
   ]
  },
  {
   "cell_type": "code",
   "execution_count": 72,
   "metadata": {
    "collapsed": true
   },
   "outputs": [],
   "source": [
    "X_boruta_train, X_boruta_test, y_boruta_train, y_boruta_test = cross_validation.train_test_split(scaled_data[boruta_features], \n",
    "                                        scaled_data['shares'],train_size = 0.70,test_size=0.30, random_state=0)"
   ]
  },
  {
   "cell_type": "markdown",
   "metadata": {},
   "source": [
    "### Model prediction with features selected:"
   ]
  },
  {
   "cell_type": "code",
   "execution_count": 73,
   "metadata": {},
   "outputs": [
    {
     "name": "stdout",
     "output_type": "stream",
     "text": [
      "Linear Regression completed\n",
      "RandomForest completed\n",
      "Lasso Regression Completed\n",
      "Best Model is  RandomForestRegressor(bootstrap=True, criterion='mse', max_depth=7,\n",
      "           max_features='auto', max_leaf_nodes=None,\n",
      "           min_impurity_decrease=0.0, min_impurity_split=None,\n",
      "           min_samples_leaf=1, min_samples_split=2,\n",
      "           min_weight_fraction_leaf=0.0, n_estimators=100, n_jobs=1,\n",
      "           oob_score=False, random_state=None, verbose=0, warm_start=False)\n"
     ]
    }
   ],
   "source": [
    "test2 = models('Boruta feature selection',X_boruta_train, y_boruta_train, X_boruta_test, y_boruta_test)"
   ]
  },
  {
   "cell_type": "markdown",
   "metadata": {},
   "source": [
    "### Final Error metrics:"
   ]
  },
  {
   "cell_type": "code",
   "execution_count": 74,
   "metadata": {},
   "outputs": [
    {
     "data": {
      "text/html": [
       "<div>\n",
       "<style>\n",
       "    .dataframe thead tr:only-child th {\n",
       "        text-align: right;\n",
       "    }\n",
       "\n",
       "    .dataframe thead th {\n",
       "        text-align: left;\n",
       "    }\n",
       "\n",
       "    .dataframe tbody tr th {\n",
       "        vertical-align: top;\n",
       "    }\n",
       "</style>\n",
       "<table border=\"1\" class=\"dataframe\">\n",
       "  <thead>\n",
       "    <tr style=\"text-align: right;\">\n",
       "      <th></th>\n",
       "      <th>Model</th>\n",
       "      <th>ModelType</th>\n",
       "      <th>mae_test</th>\n",
       "      <th>mae_train</th>\n",
       "      <th>mape_test</th>\n",
       "      <th>mape_train</th>\n",
       "      <th>r2_test</th>\n",
       "      <th>r2_train</th>\n",
       "      <th>rms_test</th>\n",
       "      <th>rms_train</th>\n",
       "    </tr>\n",
       "  </thead>\n",
       "  <tbody>\n",
       "    <tr>\n",
       "      <th>0</th>\n",
       "      <td>Linear Regression</td>\n",
       "      <td>LinearRegression(copy_X=True, fit_intercept=Tr...</td>\n",
       "      <td>259770.376254</td>\n",
       "      <td>0.365647</td>\n",
       "      <td>4.333404e+07</td>\n",
       "      <td>64.777803</td>\n",
       "      <td>-2.954859e+15</td>\n",
       "      <td>0.102609</td>\n",
       "      <td>2.833042e+07</td>\n",
       "      <td>0.500354</td>\n",
       "    </tr>\n",
       "    <tr>\n",
       "      <th>0</th>\n",
       "      <td>RandomForest</td>\n",
       "      <td>(DecisionTreeRegressor(criterion='mse', max_de...</td>\n",
       "      <td>0.365470</td>\n",
       "      <td>0.350450</td>\n",
       "      <td>6.431252e+01</td>\n",
       "      <td>62.180414</td>\n",
       "      <td>8.982102e-02</td>\n",
       "      <td>0.187632</td>\n",
       "      <td>4.972194e-01</td>\n",
       "      <td>0.476061</td>\n",
       "    </tr>\n",
       "    <tr>\n",
       "      <th>0</th>\n",
       "      <td>Lasso</td>\n",
       "      <td>Lasso(alpha=0.1, copy_X=True, fit_intercept=Tr...</td>\n",
       "      <td>0.396290</td>\n",
       "      <td>0.398947</td>\n",
       "      <td>6.881870e+01</td>\n",
       "      <td>69.468138</td>\n",
       "      <td>9.009953e-03</td>\n",
       "      <td>0.009783</td>\n",
       "      <td>5.188231e-01</td>\n",
       "      <td>0.525595</td>\n",
       "    </tr>\n",
       "    <tr>\n",
       "      <th>0</th>\n",
       "      <td>Linear Regression</td>\n",
       "      <td>LinearRegression(copy_X=True, fit_intercept=Tr...</td>\n",
       "      <td>0.375645</td>\n",
       "      <td>0.367938</td>\n",
       "      <td>6.615781e+01</td>\n",
       "      <td>65.101318</td>\n",
       "      <td>-4.143225e+00</td>\n",
       "      <td>0.095600</td>\n",
       "      <td>1.181959e+00</td>\n",
       "      <td>0.502304</td>\n",
       "    </tr>\n",
       "    <tr>\n",
       "      <th>0</th>\n",
       "      <td>RandomForest</td>\n",
       "      <td>(DecisionTreeRegressor(criterion='mse', max_de...</td>\n",
       "      <td>0.365542</td>\n",
       "      <td>0.351354</td>\n",
       "      <td>6.439506e+01</td>\n",
       "      <td>62.317020</td>\n",
       "      <td>8.864769e-02</td>\n",
       "      <td>0.179594</td>\n",
       "      <td>4.975397e-01</td>\n",
       "      <td>0.478411</td>\n",
       "    </tr>\n",
       "    <tr>\n",
       "      <th>0</th>\n",
       "      <td>Lasso</td>\n",
       "      <td>Lasso(alpha=0.1, copy_X=True, fit_intercept=Tr...</td>\n",
       "      <td>0.396290</td>\n",
       "      <td>0.398947</td>\n",
       "      <td>6.881870e+01</td>\n",
       "      <td>69.468138</td>\n",
       "      <td>9.009953e-03</td>\n",
       "      <td>0.009783</td>\n",
       "      <td>5.188231e-01</td>\n",
       "      <td>0.525595</td>\n",
       "    </tr>\n",
       "  </tbody>\n",
       "</table>\n",
       "</div>"
      ],
      "text/plain": [
       "               Model                                          ModelType  \\\n",
       "0  Linear Regression  LinearRegression(copy_X=True, fit_intercept=Tr...   \n",
       "0       RandomForest  (DecisionTreeRegressor(criterion='mse', max_de...   \n",
       "0              Lasso  Lasso(alpha=0.1, copy_X=True, fit_intercept=Tr...   \n",
       "0  Linear Regression  LinearRegression(copy_X=True, fit_intercept=Tr...   \n",
       "0       RandomForest  (DecisionTreeRegressor(criterion='mse', max_de...   \n",
       "0              Lasso  Lasso(alpha=0.1, copy_X=True, fit_intercept=Tr...   \n",
       "\n",
       "        mae_test  mae_train     mape_test  mape_train       r2_test  r2_train  \\\n",
       "0  259770.376254   0.365647  4.333404e+07   64.777803 -2.954859e+15  0.102609   \n",
       "0       0.365470   0.350450  6.431252e+01   62.180414  8.982102e-02  0.187632   \n",
       "0       0.396290   0.398947  6.881870e+01   69.468138  9.009953e-03  0.009783   \n",
       "0       0.375645   0.367938  6.615781e+01   65.101318 -4.143225e+00  0.095600   \n",
       "0       0.365542   0.351354  6.439506e+01   62.317020  8.864769e-02  0.179594   \n",
       "0       0.396290   0.398947  6.881870e+01   69.468138  9.009953e-03  0.009783   \n",
       "\n",
       "       rms_test  rms_train  \n",
       "0  2.833042e+07   0.500354  \n",
       "0  4.972194e-01   0.476061  \n",
       "0  5.188231e-01   0.525595  \n",
       "0  1.181959e+00   0.502304  \n",
       "0  4.975397e-01   0.478411  \n",
       "0  5.188231e-01   0.525595  "
      ]
     },
     "execution_count": 74,
     "metadata": {},
     "output_type": "execute_result"
    }
   ],
   "source": [
    "error_metric"
   ]
  },
  {
   "cell_type": "code",
   "execution_count": 75,
   "metadata": {},
   "outputs": [
    {
     "data": {
      "text/html": [
       "<div>\n",
       "<style>\n",
       "    .dataframe thead tr:only-child th {\n",
       "        text-align: right;\n",
       "    }\n",
       "\n",
       "    .dataframe thead th {\n",
       "        text-align: left;\n",
       "    }\n",
       "\n",
       "    .dataframe tbody tr th {\n",
       "        vertical-align: top;\n",
       "    }\n",
       "</style>\n",
       "<table border=\"1\" class=\"dataframe\">\n",
       "  <thead>\n",
       "    <tr style=\"text-align: right;\">\n",
       "      <th></th>\n",
       "      <th>Unnamed: 0</th>\n",
       "      <th>Model</th>\n",
       "      <th>ModelType</th>\n",
       "      <th>mae_test</th>\n",
       "      <th>mae_train</th>\n",
       "      <th>mape_test</th>\n",
       "      <th>mape_train</th>\n",
       "      <th>r2_test</th>\n",
       "      <th>r2_train</th>\n",
       "      <th>rms_test</th>\n",
       "      <th>rms_train</th>\n",
       "    </tr>\n",
       "  </thead>\n",
       "  <tbody>\n",
       "    <tr>\n",
       "      <th>0</th>\n",
       "      <td>0</td>\n",
       "      <td>Linear Regression</td>\n",
       "      <td>LinearRegression(copy_X=True, fit_intercept=Tr...</td>\n",
       "      <td>259770.376254</td>\n",
       "      <td>0.365647</td>\n",
       "      <td>4.333404e+07</td>\n",
       "      <td>64.777803</td>\n",
       "      <td>-2.954859e+15</td>\n",
       "      <td>0.102609</td>\n",
       "      <td>2.833042e+07</td>\n",
       "      <td>0.500354</td>\n",
       "    </tr>\n",
       "    <tr>\n",
       "      <th>1</th>\n",
       "      <td>0</td>\n",
       "      <td>RandomForest</td>\n",
       "      <td>RandomForestRegressor(bootstrap=True, criterio...</td>\n",
       "      <td>0.365470</td>\n",
       "      <td>0.350450</td>\n",
       "      <td>6.431252e+01</td>\n",
       "      <td>62.180414</td>\n",
       "      <td>8.982102e-02</td>\n",
       "      <td>0.187632</td>\n",
       "      <td>4.972194e-01</td>\n",
       "      <td>0.476061</td>\n",
       "    </tr>\n",
       "    <tr>\n",
       "      <th>2</th>\n",
       "      <td>0</td>\n",
       "      <td>Lasso</td>\n",
       "      <td>Lasso(alpha=0.1, copy_X=True, fit_intercept=Tr...</td>\n",
       "      <td>0.396290</td>\n",
       "      <td>0.398947</td>\n",
       "      <td>6.881870e+01</td>\n",
       "      <td>69.468138</td>\n",
       "      <td>9.009953e-03</td>\n",
       "      <td>0.009783</td>\n",
       "      <td>5.188231e-01</td>\n",
       "      <td>0.525595</td>\n",
       "    </tr>\n",
       "    <tr>\n",
       "      <th>3</th>\n",
       "      <td>0</td>\n",
       "      <td>Linear Regression</td>\n",
       "      <td>LinearRegression(copy_X=True, fit_intercept=Tr...</td>\n",
       "      <td>0.375645</td>\n",
       "      <td>0.367938</td>\n",
       "      <td>6.615781e+01</td>\n",
       "      <td>65.101318</td>\n",
       "      <td>-4.143225e+00</td>\n",
       "      <td>0.095600</td>\n",
       "      <td>1.181959e+00</td>\n",
       "      <td>0.502304</td>\n",
       "    </tr>\n",
       "    <tr>\n",
       "      <th>4</th>\n",
       "      <td>0</td>\n",
       "      <td>RandomForest</td>\n",
       "      <td>RandomForestRegressor(bootstrap=True, criterio...</td>\n",
       "      <td>0.365542</td>\n",
       "      <td>0.351354</td>\n",
       "      <td>6.439506e+01</td>\n",
       "      <td>62.317020</td>\n",
       "      <td>8.864769e-02</td>\n",
       "      <td>0.179594</td>\n",
       "      <td>4.975397e-01</td>\n",
       "      <td>0.478411</td>\n",
       "    </tr>\n",
       "    <tr>\n",
       "      <th>5</th>\n",
       "      <td>0</td>\n",
       "      <td>Lasso</td>\n",
       "      <td>Lasso(alpha=0.1, copy_X=True, fit_intercept=Tr...</td>\n",
       "      <td>0.396290</td>\n",
       "      <td>0.398947</td>\n",
       "      <td>6.881870e+01</td>\n",
       "      <td>69.468138</td>\n",
       "      <td>9.009953e-03</td>\n",
       "      <td>0.009783</td>\n",
       "      <td>5.188231e-01</td>\n",
       "      <td>0.525595</td>\n",
       "    </tr>\n",
       "  </tbody>\n",
       "</table>\n",
       "</div>"
      ],
      "text/plain": [
       "   Unnamed: 0              Model  \\\n",
       "0           0  Linear Regression   \n",
       "1           0       RandomForest   \n",
       "2           0              Lasso   \n",
       "3           0  Linear Regression   \n",
       "4           0       RandomForest   \n",
       "5           0              Lasso   \n",
       "\n",
       "                                           ModelType       mae_test  \\\n",
       "0  LinearRegression(copy_X=True, fit_intercept=Tr...  259770.376254   \n",
       "1  RandomForestRegressor(bootstrap=True, criterio...       0.365470   \n",
       "2  Lasso(alpha=0.1, copy_X=True, fit_intercept=Tr...       0.396290   \n",
       "3  LinearRegression(copy_X=True, fit_intercept=Tr...       0.375645   \n",
       "4  RandomForestRegressor(bootstrap=True, criterio...       0.365542   \n",
       "5  Lasso(alpha=0.1, copy_X=True, fit_intercept=Tr...       0.396290   \n",
       "\n",
       "   mae_train     mape_test  mape_train       r2_test  r2_train      rms_test  \\\n",
       "0   0.365647  4.333404e+07   64.777803 -2.954859e+15  0.102609  2.833042e+07   \n",
       "1   0.350450  6.431252e+01   62.180414  8.982102e-02  0.187632  4.972194e-01   \n",
       "2   0.398947  6.881870e+01   69.468138  9.009953e-03  0.009783  5.188231e-01   \n",
       "3   0.367938  6.615781e+01   65.101318 -4.143225e+00  0.095600  1.181959e+00   \n",
       "4   0.351354  6.439506e+01   62.317020  8.864769e-02  0.179594  4.975397e-01   \n",
       "5   0.398947  6.881870e+01   69.468138  9.009953e-03  0.009783  5.188231e-01   \n",
       "\n",
       "   rms_train  \n",
       "0   0.500354  \n",
       "1   0.476061  \n",
       "2   0.525595  \n",
       "3   0.502304  \n",
       "4   0.478411  \n",
       "5   0.525595  "
      ]
     },
     "execution_count": 75,
     "metadata": {},
     "output_type": "execute_result"
    }
   ],
   "source": [
    "pd.read_csv('error_metrics.csv')"
   ]
  },
  {
   "cell_type": "code",
   "execution_count": null,
   "metadata": {
    "collapsed": true
   },
   "outputs": [],
   "source": []
  }
 ],
 "metadata": {
  "kernelspec": {
   "display_name": "Python 3",
   "language": "python",
   "name": "python3"
  },
  "language_info": {
   "codemirror_mode": {
    "name": "ipython",
    "version": 3
   },
   "file_extension": ".py",
   "mimetype": "text/x-python",
   "name": "python",
   "nbconvert_exporter": "python",
   "pygments_lexer": "ipython3",
   "version": "3.6.5"
  }
 },
 "nbformat": 4,
 "nbformat_minor": 2
}
